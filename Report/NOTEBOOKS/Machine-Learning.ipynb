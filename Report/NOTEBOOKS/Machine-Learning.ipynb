{
 "cells": [
  {
   "cell_type": "markdown",
   "metadata": {},
   "source": [
    "### MACHINE LEARNING ALGORITHMS"
   ]
  },
  {
   "cell_type": "code",
   "execution_count": 1,
   "metadata": {},
   "outputs": [],
   "source": [
    "import os\n",
    "import numpy as np \n",
    "import pandas as pd \n",
    "from copy import deepcopy\n",
    "import seaborn as sn\n",
    "import itertools\n",
    "\n",
    "import matplotlib.pyplot as plt\n",
    "from matplotlib import style\n",
    "from pandas import DataFrame,merge\n",
    "style.use(\"ggplot\")\n",
    "%matplotlib inline\n",
    "\n",
    "import xgboost as xgb\n",
    "from scipy.stats import randint as sp_randint\n",
    "from scipy.stats import uniform as sp_uniform\n",
    "\n",
    "import sklearn\n",
    "from sklearn.model_selection import RandomizedSearchCV, GridSearchCV, StratifiedKFold, train_test_split, cross_val_score\n",
    "from sklearn.ensemble import RandomForestClassifier , VotingClassifier\n",
    "from sklearn.ensemble import AdaBoostClassifier, GradientBoostingClassifier\n",
    "from sklearn.svm import SVC\n",
    "from sklearn.neighbors import KNeighborsClassifier \n",
    "from sklearn.naive_bayes import GaussianNB \n",
    "from sklearn.linear_model import LogisticRegression\n",
    "from sklearn.neural_network import MLPClassifier\n",
    "from sklearn import preprocessing\n",
    "from sklearn.metrics import confusion_matrix, classification_report, accuracy_score\n",
    "from sklearn.metrics import roc_curve\n",
    "from sklearn.metrics import auc\n",
    "from sklearn.preprocessing import LabelEncoder, OneHotEncoder, StandardScaler\n",
    "from sklearn.compose import ColumnTransformer\n",
    "from sklearn import tree\n",
    "from sklearn.decomposition import PCA\n",
    "from sklearn.discriminant_analysis import LinearDiscriminantAnalysis as LDA\n",
    "from sklearn.cluster import KMeans\n",
    "from sklearn.pipeline import Pipeline\n",
    "from sklearn.multiclass import OneVsRestClassifier\n",
    "from sklearn.svm import LinearSVC\n",
    "from sklearn.preprocessing import label_binarize\n",
    "from xgboost import plot_importance\n",
    "from matplotlib import pyplot\n",
    "#from tpot import TPOTClassifier"
   ]
  },
  {
   "cell_type": "markdown",
   "metadata": {},
   "source": [
    "### Read preprocessed data"
   ]
  },
  {
   "cell_type": "code",
   "execution_count": 2,
   "metadata": {},
   "outputs": [],
   "source": [
    "dtrain = pd.read_csv('data/preprocessed_data.csv', header=0, sep=',', quotechar='\"')"
   ]
  },
  {
   "cell_type": "code",
   "execution_count": 3,
   "metadata": {},
   "outputs": [],
   "source": [
    "train = deepcopy(dtrain)\n",
    "\n",
    "labels = train.loc[:,['OutcomeTypePrec']].values\n",
    "del train['OutcomeTypePrec']\n",
    "del train['AnimalID']"
   ]
  },
  {
   "cell_type": "code",
   "execution_count": 4,
   "metadata": {},
   "outputs": [],
   "source": [
    "dtest = pd.read_csv('data/test_preprocessed_data.csv', header=0, sep=',', quotechar='\"')"
   ]
  },
  {
   "cell_type": "code",
   "execution_count": 5,
   "metadata": {},
   "outputs": [],
   "source": [
    "test = deepcopy(dtest)\n",
    "\n",
    "animal_test_id = test.loc[:,['AnimalID']].values\n",
    "del test['AnimalID']"
   ]
  },
  {
   "cell_type": "code",
   "execution_count": 6,
   "metadata": {},
   "outputs": [],
   "source": [
    "full = train.append(test)"
   ]
  },
  {
   "cell_type": "code",
   "execution_count": 7,
   "metadata": {},
   "outputs": [],
   "source": [
    "onehotdf = pd.get_dummies(full, prefix=['Hour', 'BreedPrec', 'ColorPrec'], \n",
    "                          columns=['Hour', 'BreedPrec', 'ColorPrec'])\n",
    "\n",
    "onehotdf['AgeuponOutcomeProc'] = onehotdf[\"AgeuponOutcomeProc\"] / onehotdf[\"AgeuponOutcomeProc\"].max()\n",
    "onehotdf['NameLen'] = onehotdf[\"NameLen\"] / onehotdf[\"NameLen\"].max()\n",
    "onehotdf['NameFreq'] = onehotdf[\"NameFreq\"] / onehotdf[\"NameFreq\"].max()"
   ]
  },
  {
   "cell_type": "code",
   "execution_count": 8,
   "metadata": {},
   "outputs": [
    {
     "data": {
      "text/plain": [
       "38185"
      ]
     },
     "execution_count": 8,
     "metadata": {},
     "output_type": "execute_result"
    }
   ],
   "source": [
    "len(onehotdf)"
   ]
  },
  {
   "cell_type": "code",
   "execution_count": 9,
   "metadata": {},
   "outputs": [
    {
     "data": {
      "text/html": [
       "<div>\n",
       "<style scoped>\n",
       "    .dataframe tbody tr th:only-of-type {\n",
       "        vertical-align: middle;\n",
       "    }\n",
       "\n",
       "    .dataframe tbody tr th {\n",
       "        vertical-align: top;\n",
       "    }\n",
       "\n",
       "    .dataframe thead th {\n",
       "        text-align: right;\n",
       "    }\n",
       "</style>\n",
       "<table border=\"1\" class=\"dataframe\">\n",
       "  <thead>\n",
       "    <tr style=\"text-align: right;\">\n",
       "      <th></th>\n",
       "      <th>NameBinary</th>\n",
       "      <th>NameLen</th>\n",
       "      <th>NameFreq</th>\n",
       "      <th>AnimalTypeBinary</th>\n",
       "      <th>AgeuponOutcomeProc</th>\n",
       "      <th>AgePrec</th>\n",
       "      <th>Month</th>\n",
       "      <th>Day</th>\n",
       "      <th>TimeOfDayPrec</th>\n",
       "      <th>YearPeriodPrec</th>\n",
       "      <th>...</th>\n",
       "      <th>ColorPrec_20</th>\n",
       "      <th>ColorPrec_21</th>\n",
       "      <th>ColorPrec_22</th>\n",
       "      <th>ColorPrec_23</th>\n",
       "      <th>ColorPrec_24</th>\n",
       "      <th>ColorPrec_25</th>\n",
       "      <th>ColorPrec_26</th>\n",
       "      <th>ColorPrec_27</th>\n",
       "      <th>ColorPrec_28</th>\n",
       "      <th>ColorPrec_29</th>\n",
       "    </tr>\n",
       "  </thead>\n",
       "  <tbody>\n",
       "    <tr>\n",
       "      <th>0</th>\n",
       "      <td>1</td>\n",
       "      <td>0.583333</td>\n",
       "      <td>0.000550</td>\n",
       "      <td>1</td>\n",
       "      <td>0.045455</td>\n",
       "      <td>3</td>\n",
       "      <td>2</td>\n",
       "      <td>12</td>\n",
       "      <td>3</td>\n",
       "      <td>1</td>\n",
       "      <td>...</td>\n",
       "      <td>0</td>\n",
       "      <td>0</td>\n",
       "      <td>0</td>\n",
       "      <td>0</td>\n",
       "      <td>0</td>\n",
       "      <td>1</td>\n",
       "      <td>0</td>\n",
       "      <td>0</td>\n",
       "      <td>0</td>\n",
       "      <td>0</td>\n",
       "    </tr>\n",
       "    <tr>\n",
       "      <th>1</th>\n",
       "      <td>1</td>\n",
       "      <td>0.416667</td>\n",
       "      <td>0.002290</td>\n",
       "      <td>0</td>\n",
       "      <td>0.045455</td>\n",
       "      <td>2</td>\n",
       "      <td>10</td>\n",
       "      <td>13</td>\n",
       "      <td>2</td>\n",
       "      <td>2</td>\n",
       "      <td>...</td>\n",
       "      <td>0</td>\n",
       "      <td>1</td>\n",
       "      <td>0</td>\n",
       "      <td>0</td>\n",
       "      <td>0</td>\n",
       "      <td>0</td>\n",
       "      <td>0</td>\n",
       "      <td>0</td>\n",
       "      <td>0</td>\n",
       "      <td>0</td>\n",
       "    </tr>\n",
       "    <tr>\n",
       "      <th>2</th>\n",
       "      <td>1</td>\n",
       "      <td>0.500000</td>\n",
       "      <td>0.000183</td>\n",
       "      <td>1</td>\n",
       "      <td>0.090909</td>\n",
       "      <td>3</td>\n",
       "      <td>1</td>\n",
       "      <td>31</td>\n",
       "      <td>2</td>\n",
       "      <td>1</td>\n",
       "      <td>...</td>\n",
       "      <td>0</td>\n",
       "      <td>0</td>\n",
       "      <td>0</td>\n",
       "      <td>0</td>\n",
       "      <td>0</td>\n",
       "      <td>0</td>\n",
       "      <td>1</td>\n",
       "      <td>0</td>\n",
       "      <td>0</td>\n",
       "      <td>0</td>\n",
       "    </tr>\n",
       "    <tr>\n",
       "      <th>3</th>\n",
       "      <td>0</td>\n",
       "      <td>0.250000</td>\n",
       "      <td>1.000000</td>\n",
       "      <td>0</td>\n",
       "      <td>0.002615</td>\n",
       "      <td>1</td>\n",
       "      <td>7</td>\n",
       "      <td>11</td>\n",
       "      <td>3</td>\n",
       "      <td>4</td>\n",
       "      <td>...</td>\n",
       "      <td>0</td>\n",
       "      <td>0</td>\n",
       "      <td>0</td>\n",
       "      <td>0</td>\n",
       "      <td>0</td>\n",
       "      <td>0</td>\n",
       "      <td>1</td>\n",
       "      <td>0</td>\n",
       "      <td>0</td>\n",
       "      <td>0</td>\n",
       "    </tr>\n",
       "    <tr>\n",
       "      <th>4</th>\n",
       "      <td>0</td>\n",
       "      <td>0.250000</td>\n",
       "      <td>1.000000</td>\n",
       "      <td>1</td>\n",
       "      <td>0.090909</td>\n",
       "      <td>3</td>\n",
       "      <td>11</td>\n",
       "      <td>15</td>\n",
       "      <td>2</td>\n",
       "      <td>2</td>\n",
       "      <td>...</td>\n",
       "      <td>0</td>\n",
       "      <td>0</td>\n",
       "      <td>0</td>\n",
       "      <td>0</td>\n",
       "      <td>0</td>\n",
       "      <td>0</td>\n",
       "      <td>0</td>\n",
       "      <td>0</td>\n",
       "      <td>0</td>\n",
       "      <td>0</td>\n",
       "    </tr>\n",
       "  </tbody>\n",
       "</table>\n",
       "<p>5 rows × 196 columns</p>\n",
       "</div>"
      ],
      "text/plain": [
       "   NameBinary   NameLen  NameFreq  AnimalTypeBinary  AgeuponOutcomeProc  \\\n",
       "0           1  0.583333  0.000550                 1            0.045455   \n",
       "1           1  0.416667  0.002290                 0            0.045455   \n",
       "2           1  0.500000  0.000183                 1            0.090909   \n",
       "3           0  0.250000  1.000000                 0            0.002615   \n",
       "4           0  0.250000  1.000000                 1            0.090909   \n",
       "\n",
       "   AgePrec  Month  Day  TimeOfDayPrec  YearPeriodPrec  ...  ColorPrec_20  \\\n",
       "0        3      2   12              3               1  ...             0   \n",
       "1        2     10   13              2               2  ...             0   \n",
       "2        3      1   31              2               1  ...             0   \n",
       "3        1      7   11              3               4  ...             0   \n",
       "4        3     11   15              2               2  ...             0   \n",
       "\n",
       "   ColorPrec_21  ColorPrec_22  ColorPrec_23  ColorPrec_24  ColorPrec_25  \\\n",
       "0             0             0             0             0             1   \n",
       "1             1             0             0             0             0   \n",
       "2             0             0             0             0             0   \n",
       "3             0             0             0             0             0   \n",
       "4             0             0             0             0             0   \n",
       "\n",
       "   ColorPrec_26  ColorPrec_27  ColorPrec_28  ColorPrec_29  \n",
       "0             0             0             0             0  \n",
       "1             0             0             0             0  \n",
       "2             1             0             0             0  \n",
       "3             1             0             0             0  \n",
       "4             0             0             0             0  \n",
       "\n",
       "[5 rows x 196 columns]"
      ]
     },
     "execution_count": 9,
     "metadata": {},
     "output_type": "execute_result"
    }
   ],
   "source": [
    "onehotdf.head()"
   ]
  },
  {
   "cell_type": "code",
   "execution_count": 10,
   "metadata": {},
   "outputs": [],
   "source": [
    "f_train = onehotdf.head(26729)\n",
    "f_test = onehotdf.tail(11456)"
   ]
  },
  {
   "cell_type": "code",
   "execution_count": 11,
   "metadata": {},
   "outputs": [],
   "source": [
    "X = f_train.values # numpy array\n",
    "# X = f_train # dataframe\n",
    "y = labels.ravel()"
   ]
  },
  {
   "cell_type": "code",
   "execution_count": 12,
   "metadata": {},
   "outputs": [
    {
     "name": "stdout",
     "output_type": "stream",
     "text": [
      "(26729, 196)\n",
      "(26729,)\n"
     ]
    }
   ],
   "source": [
    "print(X.shape)\n",
    "print(y.shape)"
   ]
  },
  {
   "cell_type": "code",
   "execution_count": 14,
   "metadata": {},
   "outputs": [],
   "source": [
    "# Split train and data\n",
    "X_train, X_test, y_train, y_test = train_test_split(X, y, test_size = 0.2, random_state = 0)"
   ]
  },
  {
   "cell_type": "code",
   "execution_count": 15,
   "metadata": {},
   "outputs": [
    {
     "name": "stdout",
     "output_type": "stream",
     "text": [
      "(21383, 196)\n",
      "(21383,)\n"
     ]
    }
   ],
   "source": [
    "print(X_train.shape)\n",
    "print(y_train.shape)"
   ]
  },
  {
   "cell_type": "markdown",
   "metadata": {},
   "source": [
    "### DecisionTreeClassifier()"
   ]
  },
  {
   "cell_type": "code",
   "execution_count": 16,
   "metadata": {},
   "outputs": [
    {
     "name": "stdout",
     "output_type": "stream",
     "text": [
      "DecisionTreeClassifier Accuracy: 60.88664421997755%\n"
     ]
    }
   ],
   "source": [
    "decisionTree_model = tree.DecisionTreeClassifier()\n",
    "\n",
    "decisionTree_model.fit(X_train, y_train)\n",
    "df_predict = decisionTree_model.predict(X_test)\n",
    "print(\"DecisionTreeClassifier Accuracy: {}%\".format(accuracy_score(y_test, df_predict)*100))"
   ]
  },
  {
   "cell_type": "markdown",
   "metadata": {},
   "source": [
    "#### Confusion Matrix and Classification Report of DecisionTreeClassifier()"
   ]
  },
  {
   "cell_type": "code",
   "execution_count": 17,
   "metadata": {},
   "outputs": [
    {
     "name": "stdout",
     "output_type": "stream",
     "text": [
      "[[0.69152385 0.00277906 0.01482168 0.15562761 0.1352478 ]\n",
      " [0.06451613 0.09677419 0.16129032 0.12903226 0.5483871 ]\n",
      " [0.10248447 0.03726708 0.26708075 0.1863354  0.4068323 ]\n",
      " [0.31263158 0.00315789 0.06105263 0.40947368 0.21368421]\n",
      " [0.14808917 0.00849257 0.06050955 0.10138004 0.68152866]]\n"
     ]
    },
    {
     "data": {
      "image/png": "[encoded data removed]",
      "text/plain": [
       "<Figure size 360x288 with 2 Axes>"
      ]
     },
     "metadata": {
      "needs_background": "light"
     },
     "output_type": "display_data"
    }
   ],
   "source": [
    "cm = confusion_matrix(y_test, df_predict) \n",
    "cm = cm.astype('float') / cm.sum(axis=1)[:, np.newaxis]\n",
    "print(cm)\n",
    "\n",
    "df_cm = pd.DataFrame(cm, range(1, 6), range(1, 6))\n",
    "plt.figure(figsize=(5,4))\n",
    "sn.set(font_scale=0.5) # for label size\n",
    "sn.heatmap(df_cm, annot=True, annot_kws={\"size\": 10}) # font size\n",
    "plt.show()"
   ]
  },
  {
   "cell_type": "code",
   "execution_count": 18,
   "metadata": {},
   "outputs": [
    {
     "name": "stdout",
     "output_type": "stream",
     "text": [
      "                 precision    recall  f1-score   support\n",
      "\n",
      "       Adoption       0.71      0.69      0.70      2159\n",
      "           Died       0.07      0.10      0.08        31\n",
      "     Euthanasia       0.29      0.27      0.28       322\n",
      "Return_to_owner       0.40      0.41      0.40       950\n",
      "       Transfer       0.67      0.68      0.67      1884\n",
      "\n",
      "       accuracy                           0.61      5346\n",
      "      macro avg       0.43      0.43      0.43      5346\n",
      "   weighted avg       0.61      0.61      0.61      5346\n",
      "\n"
     ]
    }
   ],
   "source": [
    "target_names = ['Adoption','Died','Euthanasia','Return_to_owner','Transfer']\n",
    "print(classification_report(y_test, df_predict, target_names=target_names))"
   ]
  },
  {
   "cell_type": "code",
   "execution_count": 19,
   "metadata": {},
   "outputs": [
    {
     "name": "stdout",
     "output_type": "stream",
     "text": [
      "0.5989803729697843\n"
     ]
    }
   ],
   "source": [
    "print(np.mean(cross_val_score(decisionTree_model, X_train, y_train, cv=5)))"
   ]
  },
  {
   "cell_type": "markdown",
   "metadata": {},
   "source": [
    "### SVM()"
   ]
  },
  {
   "cell_type": "markdown",
   "metadata": {},
   "source": [
    "#### SVM Clf"
   ]
  },
  {
   "cell_type": "code",
   "execution_count": 20,
   "metadata": {},
   "outputs": [
    {
     "name": "stdout",
     "output_type": "stream",
     "text": [
      "SVM Accuracy: 62.32697343808455%\n"
     ]
    }
   ],
   "source": [
    "svm_model = SVC(probability=True)\n",
    "\n",
    "svm_model.fit(X_train, y_train)\n",
    "svm_predictions = svm_model.predict(X_test)\n",
    "print(\"SVM Accuracy: {}%\".format(accuracy_score(y_test, svm_predictions)*100))"
   ]
  },
  {
   "cell_type": "code",
   "execution_count": 21,
   "metadata": {},
   "outputs": [
    {
     "name": "stdout",
     "output_type": "stream",
     "text": [
      "[[0.82399259 0.         0.         0.07874016 0.09726725]\n",
      " [0.19354839 0.         0.         0.06451613 0.74193548]\n",
      " [0.19565217 0.         0.00310559 0.23602484 0.56521739]\n",
      " [0.51473684 0.         0.         0.39263158 0.09263158]\n",
      " [0.28450106 0.         0.         0.08970276 0.62579618]]\n"
     ]
    },
    {
     "data": {
      "image/png": "[encoded data removed]",
      "text/plain": [
       "<Figure size 360x288 with 2 Axes>"
      ]
     },
     "metadata": {},
     "output_type": "display_data"
    }
   ],
   "source": [
    "# creating a confusion matrix \n",
    "cm = confusion_matrix(y_test, svm_predictions) \n",
    "cm = cm.astype('float') / cm.sum(axis=1)[:, np.newaxis]\n",
    "print(cm)\n",
    "\n",
    "df_cm = pd.DataFrame(cm, range(5), range(5))\n",
    "plt.figure(figsize=(5,4))\n",
    "sn.set(font_scale=0.5) # for label size\n",
    "sn.heatmap(df_cm, annot=True, annot_kws={\"size\": 10}) # font size\n",
    "plt.show()"
   ]
  },
  {
   "cell_type": "code",
   "execution_count": 22,
   "metadata": {},
   "outputs": [
    {
     "name": "stdout",
     "output_type": "stream",
     "text": [
      "                 precision    recall  f1-score   support\n",
      "\n",
      "       Adoption       0.62      0.82      0.71      2159\n",
      "           Died       0.00      0.00      0.00        31\n",
      "     Euthanasia       1.00      0.00      0.01       322\n",
      "Return_to_owner       0.47      0.39      0.43       950\n",
      "       Transfer       0.70      0.63      0.66      1884\n",
      "\n",
      "       accuracy                           0.62      5346\n",
      "      macro avg       0.56      0.37      0.36      5346\n",
      "   weighted avg       0.64      0.62      0.60      5346\n",
      "\n"
     ]
    },
    {
     "name": "stderr",
     "output_type": "stream",
     "text": [
      "c:\\users\\mariliatmf\\documents\\anaconda3\\envs\\py37\\lib\\site-packages\\sklearn\\metrics\\_classification.py:1272: UndefinedMetricWarning: Precision and F-score are ill-defined and being set to 0.0 in labels with no predicted samples. Use `zero_division` parameter to control this behavior.\n",
      "  _warn_prf(average, modifier, msg_start, len(result))\n"
     ]
    }
   ],
   "source": [
    "target_names = ['Adoption','Died','Euthanasia','Return_to_owner','Transfer']\n",
    "print(classification_report(y_test, svm_predictions, target_names=target_names))"
   ]
  },
  {
   "cell_type": "code",
   "execution_count": 23,
   "metadata": {},
   "outputs": [
    {
     "name": "stdout",
     "output_type": "stream",
     "text": [
      "0.6191833185225301\n"
     ]
    }
   ],
   "source": [
    "print(np.mean(cross_val_score(svm_model, X_train, y_train, cv=5)))"
   ]
  },
  {
   "cell_type": "markdown",
   "metadata": {},
   "source": [
    "#### SVM Linear Clf"
   ]
  },
  {
   "cell_type": "code",
   "execution_count": 24,
   "metadata": {},
   "outputs": [
    {
     "name": "stdout",
     "output_type": "stream",
     "text": [
      "SVM Linear Accuracy: 63.13131313131313%\n"
     ]
    }
   ],
   "source": [
    "svm_model_linear = SVC(kernel = 'linear', C = 1).fit(X_train, y_train) \n",
    "\n",
    "svm_linear_predictions = svm_model_linear.predict(X_test) \n",
    "  \n",
    "# model accuracy for X_test   \n",
    "accuracy = svm_model_linear.score(X_test, y_test) \n",
    "print(\"SVM Linear Accuracy: {}%\".format(accuracy*100))"
   ]
  },
  {
   "cell_type": "code",
   "execution_count": 25,
   "metadata": {},
   "outputs": [
    {
     "name": "stdout",
     "output_type": "stream",
     "text": [
      "[[0.79851783 0.         0.00277906 0.07503474 0.12366836]\n",
      " [0.19354839 0.         0.         0.06451613 0.74193548]\n",
      " [0.1863354  0.         0.02795031 0.19875776 0.58695652]\n",
      " [0.46736842 0.         0.         0.41263158 0.12      ]\n",
      " [0.24787686 0.         0.00159236 0.08704883 0.66348195]]\n"
     ]
    },
    {
     "data": {
      "image/png": "[encoded data removed]",
      "text/plain": [
       "<Figure size 360x288 with 2 Axes>"
      ]
     },
     "metadata": {},
     "output_type": "display_data"
    }
   ],
   "source": [
    "# creating a confusion matrix \n",
    "cm = confusion_matrix(y_test, svm_linear_predictions) \n",
    "cm = cm.astype('float') / cm.sum(axis=1)[:, np.newaxis]\n",
    "print(cm)\n",
    "\n",
    "df_cm = pd.DataFrame(cm, range(5), range(5))\n",
    "plt.figure(figsize=(5,4))\n",
    "sn.set(font_scale=0.5) # for label size\n",
    "sn.heatmap(df_cm, annot=True, annot_kws={\"size\": 10}) # font size\n",
    "plt.show()"
   ]
  },
  {
   "cell_type": "code",
   "execution_count": 26,
   "metadata": {},
   "outputs": [
    {
     "name": "stdout",
     "output_type": "stream",
     "text": [
      "                 precision    recall  f1-score   support\n",
      "\n",
      "       Adoption       0.64      0.80      0.71      2159\n",
      "           Died       0.00      0.00      0.00        31\n",
      "     Euthanasia       0.50      0.03      0.05       322\n",
      "Return_to_owner       0.50      0.41      0.45       950\n",
      "       Transfer       0.68      0.66      0.67      1884\n",
      "\n",
      "       accuracy                           0.63      5346\n",
      "      macro avg       0.46      0.38      0.38      5346\n",
      "   weighted avg       0.62      0.63      0.61      5346\n",
      "\n"
     ]
    },
    {
     "name": "stderr",
     "output_type": "stream",
     "text": [
      "c:\\users\\mariliatmf\\documents\\anaconda3\\envs\\py37\\lib\\site-packages\\sklearn\\metrics\\_classification.py:1272: UndefinedMetricWarning: Precision and F-score are ill-defined and being set to 0.0 in labels with no predicted samples. Use `zero_division` parameter to control this behavior.\n",
      "  _warn_prf(average, modifier, msg_start, len(result))\n"
     ]
    }
   ],
   "source": [
    "target_names = ['Adoption','Died','Euthanasia','Return_to_owner','Transfer']\n",
    "print(classification_report(y_test, svm_linear_predictions, target_names=target_names))"
   ]
  },
  {
   "cell_type": "code",
   "execution_count": 27,
   "metadata": {},
   "outputs": [
    {
     "name": "stdout",
     "output_type": "stream",
     "text": [
      "0.6282557539588369\n"
     ]
    }
   ],
   "source": [
    "print(np.mean(cross_val_score(svm_model_linear, X_train, y_train, cv=5)))"
   ]
  },
  {
   "cell_type": "markdown",
   "metadata": {},
   "source": [
    "#### SVM Poly Clf"
   ]
  },
  {
   "cell_type": "code",
   "execution_count": 28,
   "metadata": {},
   "outputs": [
    {
     "name": "stdout",
     "output_type": "stream",
     "text": [
      "SVM Poly Accuracy: 64.12270856715301%\n"
     ]
    }
   ],
   "source": [
    "svm_model_poly = SVC(gamma='auto',kernel='poly').fit(X_train, y_train) \n",
    "\n",
    "svm_poly_predictions = svm_model_poly.predict(X_test) \n",
    "  \n",
    "accuracy = svm_model_poly.score(X_test, y_test) \n",
    "print(\"SVM Poly Accuracy: {}%\".format(accuracy*100))"
   ]
  },
  {
   "cell_type": "code",
   "execution_count": 29,
   "metadata": {},
   "outputs": [
    {
     "name": "stdout",
     "output_type": "stream",
     "text": [
      "[[8.56415007e-01 0.00000000e+00 9.26354794e-04 6.43816582e-02\n",
      "  7.82769801e-02]\n",
      " [1.93548387e-01 0.00000000e+00 0.00000000e+00 3.22580645e-02\n",
      "  7.74193548e-01]\n",
      " [2.36024845e-01 0.00000000e+00 3.10559006e-03 1.64596273e-01\n",
      "  5.96273292e-01]\n",
      " [5.62105263e-01 0.00000000e+00 0.00000000e+00 3.32631579e-01\n",
      "  1.05263158e-01]\n",
      " [2.63800425e-01 0.00000000e+00 5.30785563e-04 6.58174098e-02\n",
      "  6.69851380e-01]]\n"
     ]
    },
    {
     "data": {
      "image/png": "[encoded data removed]",
      "text/plain": [
       "<Figure size 360x288 with 2 Axes>"
      ]
     },
     "metadata": {},
     "output_type": "display_data"
    }
   ],
   "source": [
    "cm = confusion_matrix(y_test, svm_poly_predictions) \n",
    "cm = cm.astype('float') / cm.sum(axis=1)[:, np.newaxis]\n",
    "print(cm)\n",
    "\n",
    "df_cm = pd.DataFrame(cm, range(5), range(5))\n",
    "plt.figure(figsize=(5,4))\n",
    "sn.set(font_scale=0.5) # for label size\n",
    "sn.heatmap(df_cm, annot=True, annot_kws={\"size\": 10}) # font size\n",
    "plt.show()"
   ]
  },
  {
   "cell_type": "code",
   "execution_count": 30,
   "metadata": {},
   "outputs": [
    {
     "name": "stdout",
     "output_type": "stream",
     "text": [
      "                 precision    recall  f1-score   support\n",
      "\n",
      "       Adoption       0.62      0.86      0.72      2159\n",
      "           Died       0.00      0.00      0.00        31\n",
      "     Euthanasia       0.25      0.00      0.01       322\n",
      "Return_to_owner       0.50      0.33      0.40       950\n",
      "       Transfer       0.72      0.67      0.70      1884\n",
      "\n",
      "       accuracy                           0.64      5346\n",
      "      macro avg       0.42      0.37      0.36      5346\n",
      "   weighted avg       0.61      0.64      0.61      5346\n",
      "\n"
     ]
    },
    {
     "name": "stderr",
     "output_type": "stream",
     "text": [
      "c:\\users\\mariliatmf\\documents\\anaconda3\\envs\\py37\\lib\\site-packages\\sklearn\\metrics\\_classification.py:1272: UndefinedMetricWarning: Precision and F-score are ill-defined and being set to 0.0 in labels with no predicted samples. Use `zero_division` parameter to control this behavior.\n",
      "  _warn_prf(average, modifier, msg_start, len(result))\n"
     ]
    }
   ],
   "source": [
    "target_names = ['Adoption','Died','Euthanasia','Return_to_owner','Transfer']\n",
    "print(classification_report(y_test, svm_poly_predictions, target_names=target_names))"
   ]
  },
  {
   "cell_type": "code",
   "execution_count": 31,
   "metadata": {},
   "outputs": [
    {
     "name": "stdout",
     "output_type": "stream",
     "text": [
      "0.6336809479555733\n"
     ]
    }
   ],
   "source": [
    "print(np.mean(cross_val_score(svm_model_poly, X_train, y_train, cv=5)))"
   ]
  },
  {
   "cell_type": "markdown",
   "metadata": {},
   "source": [
    "### KNeighborsClassifier()"
   ]
  },
  {
   "cell_type": "code",
   "execution_count": 32,
   "metadata": {},
   "outputs": [
    {
     "data": {
      "image/png": "[encoded data removed]",
      "text/plain": [
       "<Figure size 432x288 with 1 Axes>"
      ]
     },
     "metadata": {},
     "output_type": "display_data"
    },
    {
     "name": "stdout",
     "output_type": "stream",
     "text": [
      "1\n",
      "KNN Accuracy: 59.951365506921064%\n"
     ]
    }
   ],
   "source": [
    "# training a KNN classifier \n",
    "myList = list(range(1,50))\n",
    "neighbors = list(filter(lambda x: x%2!=0, myList))\n",
    "cv_scores = []\n",
    "for k in neighbors:\n",
    "    knn_model = KNeighborsClassifier(n_neighbors=k)\n",
    "    scores = cross_val_score(knn_model, X_train, y_train, cv=5, scoring='f1_macro')\n",
    "    cv_scores.append(scores.mean())\n",
    "    \n",
    "mean_error = [1-x for x in cv_scores]\n",
    "\n",
    "plt.plot(neighbors, mean_error)\n",
    "plt.xlabel('Number of Neighbors k')\n",
    "plt.ylabel('Misclassification Error')\n",
    "plt.show()\n",
    "\n",
    "optimal_k = neighbors[mean_error.index(min(mean_error))]\n",
    "print(optimal_k)\n",
    "\n",
    "knn_model = KNeighborsClassifier(n_neighbors = optimal_k, n_jobs=-1)\n",
    "knn_model.fit(X_train, y_train)\n",
    "pred_knn = knn_model.predict(X_test)\n",
    "print(\"KNN Accuracy: {}%\".format(accuracy_score(y_test, pred_knn)*100))"
   ]
  },
  {
   "cell_type": "markdown",
   "metadata": {},
   "source": [
    "#### Confusion Matrix and Classification Report of KNeighborsClassifier()"
   ]
  },
  {
   "cell_type": "code",
   "execution_count": 33,
   "metadata": {},
   "outputs": [
    {
     "name": "stdout",
     "output_type": "stream",
     "text": [
      "[[0.65076424 0.00231589 0.02686429 0.16072256 0.15933302]\n",
      " [0.29032258 0.03225806 0.22580645 0.06451613 0.38709677]\n",
      " [0.22049689 0.01552795 0.19254658 0.20186335 0.36956522]\n",
      " [0.38210526 0.00210526 0.04210526 0.40947368 0.16421053]\n",
      " [0.1507431  0.00530786 0.0329087  0.0955414  0.71549894]]\n"
     ]
    },
    {
     "data": {
      "image/png": "[encoded data removed]",
      "text/plain": [
       "<Figure size 360x288 with 2 Axes>"
      ]
     },
     "metadata": {},
     "output_type": "display_data"
    }
   ],
   "source": [
    "cm = confusion_matrix(y_test, pred_knn) \n",
    "cm = cm.astype('float') / cm.sum(axis=1)[:, np.newaxis]\n",
    "print(cm)\n",
    "\n",
    "df_cm = pd.DataFrame(cm, range(5), range(5))\n",
    "plt.figure(figsize=(5,4))\n",
    "sn.set(font_scale=0.5) # for label size\n",
    "sn.heatmap(df_cm, annot=True, annot_kws={\"size\": 10}) # font size\n",
    "plt.show()"
   ]
  },
  {
   "cell_type": "code",
   "execution_count": 34,
   "metadata": {},
   "outputs": [
    {
     "name": "stdout",
     "output_type": "stream",
     "text": [
      "                 precision    recall  f1-score   support\n",
      "\n",
      "       Adoption       0.66      0.65      0.65      2159\n",
      "           Died       0.04      0.03      0.04        31\n",
      "     Euthanasia       0.27      0.19      0.23       322\n",
      "Return_to_owner       0.40      0.41      0.40       950\n",
      "       Transfer       0.68      0.72      0.70      1884\n",
      "\n",
      "       accuracy                           0.60      5346\n",
      "      macro avg       0.41      0.40      0.40      5346\n",
      "   weighted avg       0.59      0.60      0.60      5346\n",
      "\n"
     ]
    }
   ],
   "source": [
    "target_names = ['Adoption','Died','Euthanasia','Return_to_owner','Transfer']\n",
    "print(classification_report(y_test, pred_knn, target_names=target_names))"
   ]
  },
  {
   "cell_type": "code",
   "execution_count": 35,
   "metadata": {},
   "outputs": [
    {
     "name": "stdout",
     "output_type": "stream",
     "text": [
      "0.5854177269896873\n"
     ]
    }
   ],
   "source": [
    "print(np.mean(cross_val_score(knn_model, X_train, y_train, cv=5)))"
   ]
  },
  {
   "cell_type": "markdown",
   "metadata": {},
   "source": [
    "### GaussianNB()"
   ]
  },
  {
   "cell_type": "code",
   "execution_count": 36,
   "metadata": {},
   "outputs": [
    {
     "name": "stdout",
     "output_type": "stream",
     "text": [
      "GaussianNB Accuracy: 3.5166479610924055% \n",
      "\n",
      "[[0.01899027 0.77350625 0.12459472 0.07503474 0.00787402]\n",
      " [0.03225806 0.87096774 0.06451613 0.03225806 0.        ]\n",
      " [0.00310559 0.86956522 0.07453416 0.04658385 0.00621118]\n",
      " [0.01894737 0.72526316 0.17473684 0.07894737 0.00210526]\n",
      " [0.00636943 0.86942675 0.06900212 0.0440552  0.0111465 ]]\n",
      "                 precision    recall  f1-score   support\n",
      "\n",
      "       Adoption       0.56      0.02      0.04      2159\n",
      "           Died       0.01      0.87      0.01        31\n",
      "     Euthanasia       0.04      0.07      0.05       322\n",
      "Return_to_owner       0.22      0.08      0.12       950\n",
      "       Transfer       0.50      0.01      0.02      1884\n",
      "\n",
      "       accuracy                           0.04      5346\n",
      "      macro avg       0.27      0.21      0.05      5346\n",
      "   weighted avg       0.45      0.04      0.05      5346\n",
      "\n",
      "0.040873453915071654\n"
     ]
    }
   ],
   "source": [
    "gnb = GaussianNB().fit(X_train, y_train) \n",
    "\n",
    "gnb_pred = gnb.predict(X_test) \n",
    "  \n",
    "accuracy = gnb.score(X_test, y_test) \n",
    "print(\"GaussianNB Accuracy: {}% \\n\".format(accuracy*100))\n",
    "\n",
    "cm = confusion_matrix(y_test, gnb_pred) \n",
    "cm = cm.astype('float') / cm.sum(axis=1)[:, np.newaxis]\n",
    "print(cm)\n",
    "\n",
    "target_names = ['Adoption','Died','Euthanasia','Return_to_owner','Transfer']\n",
    "print(classification_report(y_test, gnb_pred, target_names=target_names))\n",
    "\n",
    "print(np.mean(cross_val_score(gnb, X_train, y_train, cv=5)))"
   ]
  },
  {
   "cell_type": "markdown",
   "metadata": {},
   "source": [
    "### MLPClassifier()"
   ]
  },
  {
   "cell_type": "code",
   "execution_count": 37,
   "metadata": {},
   "outputs": [
    {
     "name": "stdout",
     "output_type": "stream",
     "text": [
      "MLP Accuracy: 66.8163112607557%\n"
     ]
    },
    {
     "name": "stderr",
     "output_type": "stream",
     "text": [
      "c:\\users\\mariliatmf\\documents\\anaconda3\\envs\\py37\\lib\\site-packages\\sklearn\\neural_network\\_multilayer_perceptron.py:568: ConvergenceWarning: Stochastic Optimizer: Maximum iterations (200) reached and the optimization hasn't converged yet.\n",
      "  warnings.warn(\n"
     ]
    }
   ],
   "source": [
    "MLP_model = MLPClassifier(solver='adam', alpha=1e-5, hidden_layer_sizes=(15, 10, 5), random_state=1)\n",
    "MLP_model.fit(X_train, y_train)\n",
    "\n",
    "MLP_pred = MLP_model.predict(X_test) \n",
    "\n",
    "accuracy = MLP_model.score(X_test, y_test) \n",
    "print(\"MLP Accuracy: {}%\".format(accuracy*100))"
   ]
  },
  {
   "cell_type": "markdown",
   "metadata": {},
   "source": [
    "#### Confusion Matrix and Classification Report of MLPClassifier()"
   ]
  },
  {
   "cell_type": "code",
   "execution_count": 38,
   "metadata": {},
   "outputs": [
    {
     "name": "stdout",
     "output_type": "stream",
     "text": [
      "[[0.84437239 0.         0.00277906 0.08290875 0.06993979]\n",
      " [0.06451613 0.         0.12903226 0.09677419 0.70967742]\n",
      " [0.1552795  0.         0.20496894 0.20186335 0.4378882 ]\n",
      " [0.43894737 0.         0.00842105 0.40842105 0.14421053]\n",
      " [0.20912951 0.         0.01910828 0.0843949  0.6873673 ]]\n"
     ]
    },
    {
     "data": {
      "image/png": "[encoded data removed]",
      "text/plain": [
       "<Figure size 360x288 with 2 Axes>"
      ]
     },
     "metadata": {},
     "output_type": "display_data"
    }
   ],
   "source": [
    "cm = confusion_matrix(y_test, MLP_pred) \n",
    "cm = cm.astype('float') / cm.sum(axis=1)[:, np.newaxis]\n",
    "print(cm)\n",
    "\n",
    "df_cm = pd.DataFrame(cm, range(5), range(5))\n",
    "plt.figure(figsize=(5,4))\n",
    "sn.set(font_scale=0.5) # for label size\n",
    "sn.heatmap(df_cm, annot=True, annot_kws={\"size\": 10}) # font size\n",
    "plt.show()"
   ]
  },
  {
   "cell_type": "code",
   "execution_count": 39,
   "metadata": {},
   "outputs": [
    {
     "name": "stdout",
     "output_type": "stream",
     "text": [
      "                 precision    recall  f1-score   support\n",
      "\n",
      "       Adoption       0.68      0.84      0.75      2159\n",
      "           Died       0.00      0.00      0.00        31\n",
      "     Euthanasia       0.55      0.20      0.30       322\n",
      "Return_to_owner       0.49      0.41      0.44       950\n",
      "       Transfer       0.74      0.69      0.71      1884\n",
      "\n",
      "       accuracy                           0.67      5346\n",
      "      macro avg       0.49      0.43      0.44      5346\n",
      "   weighted avg       0.66      0.67      0.65      5346\n",
      "\n"
     ]
    },
    {
     "name": "stderr",
     "output_type": "stream",
     "text": [
      "c:\\users\\mariliatmf\\documents\\anaconda3\\envs\\py37\\lib\\site-packages\\sklearn\\metrics\\_classification.py:1272: UndefinedMetricWarning: Precision and F-score are ill-defined and being set to 0.0 in labels with no predicted samples. Use `zero_division` parameter to control this behavior.\n",
      "  _warn_prf(average, modifier, msg_start, len(result))\n"
     ]
    }
   ],
   "source": [
    "target_names = ['Adoption','Died','Euthanasia','Return_to_owner','Transfer']\n",
    "print(classification_report(y_test, MLP_pred, target_names=target_names))"
   ]
  },
  {
   "cell_type": "code",
   "execution_count": 40,
   "metadata": {},
   "outputs": [
    {
     "name": "stderr",
     "output_type": "stream",
     "text": [
      "c:\\users\\mariliatmf\\documents\\anaconda3\\envs\\py37\\lib\\site-packages\\sklearn\\neural_network\\_multilayer_perceptron.py:568: ConvergenceWarning: Stochastic Optimizer: Maximum iterations (200) reached and the optimization hasn't converged yet.\n",
      "  warnings.warn(\n",
      "c:\\users\\mariliatmf\\documents\\anaconda3\\envs\\py37\\lib\\site-packages\\sklearn\\neural_network\\_multilayer_perceptron.py:568: ConvergenceWarning: Stochastic Optimizer: Maximum iterations (200) reached and the optimization hasn't converged yet.\n",
      "  warnings.warn(\n",
      "c:\\users\\mariliatmf\\documents\\anaconda3\\envs\\py37\\lib\\site-packages\\sklearn\\neural_network\\_multilayer_perceptron.py:568: ConvergenceWarning: Stochastic Optimizer: Maximum iterations (200) reached and the optimization hasn't converged yet.\n",
      "  warnings.warn(\n"
     ]
    },
    {
     "name": "stdout",
     "output_type": "stream",
     "text": [
      "0.6583261284224602\n"
     ]
    },
    {
     "name": "stderr",
     "output_type": "stream",
     "text": [
      "c:\\users\\mariliatmf\\documents\\anaconda3\\envs\\py37\\lib\\site-packages\\sklearn\\neural_network\\_multilayer_perceptron.py:568: ConvergenceWarning: Stochastic Optimizer: Maximum iterations (200) reached and the optimization hasn't converged yet.\n",
      "  warnings.warn(\n"
     ]
    }
   ],
   "source": [
    "print(np.mean(cross_val_score(MLP_model, X_train, y_train, cv=5)))"
   ]
  },
  {
   "cell_type": "markdown",
   "metadata": {},
   "source": [
    "### RandomForestClassifier()"
   ]
  },
  {
   "cell_type": "code",
   "execution_count": 41,
   "metadata": {},
   "outputs": [
    {
     "data": {
      "text/plain": [
       "\"# Number of trees in random forest\\nn_estimators = [int(x) for x in np.linspace(start = 50, stop = 550, num = 100)]\\n# Number of features to consider at every split\\nmax_features = ['auto', 'sqrt']\\n# Maximum number of levels in tree\\nmax_depth = [int(x) for x in np.linspace(10, 110, num = 11)]\\nmax_depth.append(None)\\n# Minimum number of samples required to split a node\\nmin_samples_split = [2, 5, 10]\\n# Minimum number of samples required at each leaf node\\nmin_samples_leaf = [1, 2, 4]\\n# Method of selecting samples for training each tree\\nbootstrap = [True, False]\\n# Create the random grid\\nrandom_grid = {'n_estimators': n_estimators,\\n               'max_features': max_features,\\n               'max_depth': max_depth,\\n               'min_samples_split': min_samples_split,\\n               'min_samples_leaf': min_samples_leaf,\\n               'bootstrap': bootstrap}\\n# Use the random grid to search for best hyperparameters\\n# First create the base model to tune\\nrf = RandomForestClassifier()\\n# Random search of parameters, using 3 fold cross validation, \\n# search across 100 different combinations, and use all available cores AND .fit(x,y)\\nrf_random = RandomizedSearchCV(estimator = rf, param_distributions = random_grid, n_iter = 100, cv = 3, verbose=2, \\n                               random_state=42, n_jobs = -1).fit(onehotdf,y)\""
      ]
     },
     "execution_count": 41,
     "metadata": {},
     "output_type": "execute_result"
    }
   ],
   "source": [
    "\"\"\"# Number of trees in random forest\n",
    "n_estimators = [int(x) for x in np.linspace(start = 50, stop = 550, num = 100)]\n",
    "# Number of features to consider at every split\n",
    "max_features = ['auto', 'sqrt']\n",
    "# Maximum number of levels in tree\n",
    "max_depth = [int(x) for x in np.linspace(10, 110, num = 11)]\n",
    "max_depth.append(None)\n",
    "# Minimum number of samples required to split a node\n",
    "min_samples_split = [2, 5, 10]\n",
    "# Minimum number of samples required at each leaf node\n",
    "min_samples_leaf = [1, 2, 4]\n",
    "# Method of selecting samples for training each tree\n",
    "bootstrap = [True, False]\n",
    "# Create the random grid\n",
    "random_grid = {'n_estimators': n_estimators,\n",
    "               'max_features': max_features,\n",
    "               'max_depth': max_depth,\n",
    "               'min_samples_split': min_samples_split,\n",
    "               'min_samples_leaf': min_samples_leaf,\n",
    "               'bootstrap': bootstrap}\n",
    "# Use the random grid to search for best hyperparameters\n",
    "# First create the base model to tune\n",
    "rf = RandomForestClassifier()\n",
    "# Random search of parameters, using 3 fold cross validation, \n",
    "# search across 100 different combinations, and use all available cores AND .fit(x,y)\n",
    "rf_random = RandomizedSearchCV(estimator = rf, param_distributions = random_grid, n_iter = 100, cv = 3, verbose=2, \n",
    "                               random_state=42, n_jobs = -1).fit(onehotdf,y)\"\"\""
   ]
  },
  {
   "cell_type": "code",
   "execution_count": 42,
   "metadata": {},
   "outputs": [],
   "source": [
    "grid_search_random_forest = RandomForestClassifier(n_estimators=408, min_samples_split=10,\n",
    "                                                   min_samples_leaf=2, max_features='sqrt', max_depth=None,\n",
    "                                                   bootstrap=True)"
   ]
  },
  {
   "cell_type": "code",
   "execution_count": 43,
   "metadata": {},
   "outputs": [
    {
     "name": "stdout",
     "output_type": "stream",
     "text": [
      "RandomForest Accuracy: 68.5746352413019%\n"
     ]
    }
   ],
   "source": [
    "grid_search_random_forest.fit(X_train, y_train)\n",
    "\n",
    "rf_predictions = grid_search_random_forest.predict(X_test) \n",
    "accuracy = grid_search_random_forest.score(X_test, y_test) \n",
    "print(\"RandomForest Accuracy: {}%\".format(accuracy*100))"
   ]
  },
  {
   "cell_type": "markdown",
   "metadata": {},
   "source": [
    "#### Confusion Matrix and Classification Report of RandomForestClassifier()"
   ]
  },
  {
   "cell_type": "code",
   "execution_count": 44,
   "metadata": {},
   "outputs": [
    {
     "name": "stdout",
     "output_type": "stream",
     "text": [
      "[[8.54562297e-01 0.00000000e+00 0.00000000e+00 9.07827698e-02\n",
      "  5.46549328e-02]\n",
      " [3.22580645e-02 0.00000000e+00 0.00000000e+00 9.67741935e-02\n",
      "  8.70967742e-01]\n",
      " [1.70807453e-01 0.00000000e+00 8.07453416e-02 2.11180124e-01\n",
      "  5.37267081e-01]\n",
      " [4.27368421e-01 0.00000000e+00 0.00000000e+00 4.67368421e-01\n",
      "  1.05263158e-01]\n",
      " [1.93736730e-01 0.00000000e+00 5.30785563e-04 8.86411890e-02\n",
      "  7.17091295e-01]]\n"
     ]
    },
    {
     "data": {
      "image/png": "[encoded data removed]",
      "text/plain": [
       "<Figure size 360x288 with 2 Axes>"
      ]
     },
     "metadata": {},
     "output_type": "display_data"
    }
   ],
   "source": [
    "cm = confusion_matrix(y_test, rf_predictions) \n",
    "cm = cm.astype('float') / cm.sum(axis=1)[:, np.newaxis]\n",
    "print(cm)\n",
    "\n",
    "df_cm = pd.DataFrame(cm, range(5), range(5))\n",
    "plt.figure(figsize=(5,4))\n",
    "sn.set(font_scale=0.5) # for label size\n",
    "sn.heatmap(df_cm, annot=True, annot_kws={\"size\": 10}) # font size\n",
    "plt.show()"
   ]
  },
  {
   "cell_type": "code",
   "execution_count": 45,
   "metadata": {},
   "outputs": [
    {
     "name": "stdout",
     "output_type": "stream",
     "text": [
      "                 precision    recall  f1-score   support\n",
      "\n",
      "       Adoption       0.69      0.85      0.76      2159\n",
      "           Died       0.00      0.00      0.00        31\n",
      "     Euthanasia       0.96      0.08      0.15       322\n",
      "Return_to_owner       0.51      0.47      0.49       950\n",
      "       Transfer       0.76      0.72      0.74      1884\n",
      "\n",
      "       accuracy                           0.69      5346\n",
      "      macro avg       0.58      0.42      0.43      5346\n",
      "   weighted avg       0.70      0.69      0.66      5346\n",
      "\n"
     ]
    },
    {
     "name": "stderr",
     "output_type": "stream",
     "text": [
      "c:\\users\\mariliatmf\\documents\\anaconda3\\envs\\py37\\lib\\site-packages\\sklearn\\metrics\\_classification.py:1272: UndefinedMetricWarning: Precision and F-score are ill-defined and being set to 0.0 in labels with no predicted samples. Use `zero_division` parameter to control this behavior.\n",
      "  _warn_prf(average, modifier, msg_start, len(result))\n"
     ]
    }
   ],
   "source": [
    "target_names = ['Adoption','Died','Euthanasia','Return_to_owner','Transfer']\n",
    "print(classification_report(y_test, rf_predictions, target_names=target_names))"
   ]
  },
  {
   "cell_type": "code",
   "execution_count": 46,
   "metadata": {},
   "outputs": [
    {
     "name": "stdout",
     "output_type": "stream",
     "text": [
      "0.6809615379147453\n"
     ]
    }
   ],
   "source": [
    "print(np.mean(cross_val_score(grid_search_random_forest, X_train, y_train, cv=5)))"
   ]
  },
  {
   "cell_type": "markdown",
   "metadata": {},
   "source": [
    "### LogisticRegression()"
   ]
  },
  {
   "cell_type": "code",
   "execution_count": 47,
   "metadata": {},
   "outputs": [
    {
     "name": "stdout",
     "output_type": "stream",
     "text": [
      "LogisticRegression Accuracy: 63.20613542835765%\n"
     ]
    },
    {
     "name": "stderr",
     "output_type": "stream",
     "text": [
      "c:\\users\\mariliatmf\\documents\\anaconda3\\envs\\py37\\lib\\site-packages\\sklearn\\linear_model\\_logistic.py:938: ConvergenceWarning: lbfgs failed to converge (status=1):\n",
      "STOP: TOTAL NO. of ITERATIONS REACHED LIMIT.\n",
      "\n",
      "Increase the number of iterations (max_iter) or scale the data as shown in:\n",
      "    https://scikit-learn.org/stable/modules/preprocessing.html\n",
      "Please also refer to the documentation for alternative solver options:\n",
      "    https://scikit-learn.org/stable/modules/linear_model.html#logistic-regression\n",
      "  n_iter_i = _check_optimize_result(\n"
     ]
    }
   ],
   "source": [
    "logreg = LogisticRegression()\n",
    "logreg.fit(X_train, y_train) \n",
    "logreg_predictions = logreg.predict(X_test) \n",
    "accuracy = logreg.score(X_test, y_test) \n",
    "print(\"LogisticRegression Accuracy: {}%\".format(accuracy*100))"
   ]
  },
  {
   "cell_type": "markdown",
   "metadata": {},
   "source": [
    "#### Confusion Matrix and Classification Report of LogisticRegression()"
   ]
  },
  {
   "cell_type": "code",
   "execution_count": 48,
   "metadata": {},
   "outputs": [
    {
     "name": "stdout",
     "output_type": "stream",
     "text": [
      "[[0.7786012  0.         0.00231589 0.08846688 0.13061603]\n",
      " [0.12903226 0.         0.06451613 0.09677419 0.70967742]\n",
      " [0.16459627 0.         0.10869565 0.21428571 0.51242236]\n",
      " [0.44       0.         0.00315789 0.42736842 0.12947368]\n",
      " [0.23248408 0.         0.007431   0.09288747 0.66719745]]\n"
     ]
    },
    {
     "data": {
      "image/png": "[encoded data removed]",
      "text/plain": [
       "<Figure size 360x288 with 2 Axes>"
      ]
     },
     "metadata": {},
     "output_type": "display_data"
    }
   ],
   "source": [
    "cm = confusion_matrix(y_test, logreg_predictions) \n",
    "cm = cm.astype('float') / cm.sum(axis=1)[:, np.newaxis]\n",
    "print(cm)\n",
    "\n",
    "df_cm = pd.DataFrame(cm, range(5), range(5))\n",
    "plt.figure(figsize=(5,4))\n",
    "sn.set(font_scale=0.5) # for label size\n",
    "sn.heatmap(df_cm, annot=True, annot_kws={\"size\": 10}) # font size\n",
    "plt.show()"
   ]
  },
  {
   "cell_type": "code",
   "execution_count": 49,
   "metadata": {},
   "outputs": [
    {
     "name": "stdout",
     "output_type": "stream",
     "text": [
      "                 precision    recall  f1-score   support\n",
      "\n",
      "       Adoption       0.65      0.78      0.71      2159\n",
      "           Died       0.00      0.00      0.00        31\n",
      "     Euthanasia       0.59      0.11      0.18       322\n",
      "Return_to_owner       0.48      0.43      0.45       950\n",
      "       Transfer       0.68      0.67      0.67      1884\n",
      "\n",
      "       accuracy                           0.63      5346\n",
      "      macro avg       0.48      0.40      0.40      5346\n",
      "   weighted avg       0.62      0.63      0.61      5346\n",
      "\n"
     ]
    },
    {
     "name": "stderr",
     "output_type": "stream",
     "text": [
      "c:\\users\\mariliatmf\\documents\\anaconda3\\envs\\py37\\lib\\site-packages\\sklearn\\metrics\\_classification.py:1272: UndefinedMetricWarning: Precision and F-score are ill-defined and being set to 0.0 in labels with no predicted samples. Use `zero_division` parameter to control this behavior.\n",
      "  _warn_prf(average, modifier, msg_start, len(result))\n"
     ]
    }
   ],
   "source": [
    "target_names = ['Adoption','Died','Euthanasia','Return_to_owner','Transfer']\n",
    "print(classification_report(y_test, logreg_predictions, target_names=target_names))"
   ]
  },
  {
   "cell_type": "code",
   "execution_count": 50,
   "metadata": {},
   "outputs": [
    {
     "name": "stderr",
     "output_type": "stream",
     "text": [
      "c:\\users\\mariliatmf\\documents\\anaconda3\\envs\\py37\\lib\\site-packages\\sklearn\\linear_model\\_logistic.py:938: ConvergenceWarning: lbfgs failed to converge (status=1):\n",
      "STOP: TOTAL NO. of ITERATIONS REACHED LIMIT.\n",
      "\n",
      "Increase the number of iterations (max_iter) or scale the data as shown in:\n",
      "    https://scikit-learn.org/stable/modules/preprocessing.html\n",
      "Please also refer to the documentation for alternative solver options:\n",
      "    https://scikit-learn.org/stable/modules/linear_model.html#logistic-regression\n",
      "  n_iter_i = _check_optimize_result(\n",
      "c:\\users\\mariliatmf\\documents\\anaconda3\\envs\\py37\\lib\\site-packages\\sklearn\\linear_model\\_logistic.py:938: ConvergenceWarning: lbfgs failed to converge (status=1):\n",
      "STOP: TOTAL NO. of ITERATIONS REACHED LIMIT.\n",
      "\n",
      "Increase the number of iterations (max_iter) or scale the data as shown in:\n",
      "    https://scikit-learn.org/stable/modules/preprocessing.html\n",
      "Please also refer to the documentation for alternative solver options:\n",
      "    https://scikit-learn.org/stable/modules/linear_model.html#logistic-regression\n",
      "  n_iter_i = _check_optimize_result(\n",
      "c:\\users\\mariliatmf\\documents\\anaconda3\\envs\\py37\\lib\\site-packages\\sklearn\\linear_model\\_logistic.py:938: ConvergenceWarning: lbfgs failed to converge (status=1):\n",
      "STOP: TOTAL NO. of ITERATIONS REACHED LIMIT.\n",
      "\n",
      "Increase the number of iterations (max_iter) or scale the data as shown in:\n",
      "    https://scikit-learn.org/stable/modules/preprocessing.html\n",
      "Please also refer to the documentation for alternative solver options:\n",
      "    https://scikit-learn.org/stable/modules/linear_model.html#logistic-regression\n",
      "  n_iter_i = _check_optimize_result(\n",
      "c:\\users\\mariliatmf\\documents\\anaconda3\\envs\\py37\\lib\\site-packages\\sklearn\\linear_model\\_logistic.py:938: ConvergenceWarning: lbfgs failed to converge (status=1):\n",
      "STOP: TOTAL NO. of ITERATIONS REACHED LIMIT.\n",
      "\n",
      "Increase the number of iterations (max_iter) or scale the data as shown in:\n",
      "    https://scikit-learn.org/stable/modules/preprocessing.html\n",
      "Please also refer to the documentation for alternative solver options:\n",
      "    https://scikit-learn.org/stable/modules/linear_model.html#logistic-regression\n",
      "  n_iter_i = _check_optimize_result(\n"
     ]
    },
    {
     "name": "stdout",
     "output_type": "stream",
     "text": [
      "0.6248424087506148\n"
     ]
    },
    {
     "name": "stderr",
     "output_type": "stream",
     "text": [
      "c:\\users\\mariliatmf\\documents\\anaconda3\\envs\\py37\\lib\\site-packages\\sklearn\\linear_model\\_logistic.py:938: ConvergenceWarning: lbfgs failed to converge (status=1):\n",
      "STOP: TOTAL NO. of ITERATIONS REACHED LIMIT.\n",
      "\n",
      "Increase the number of iterations (max_iter) or scale the data as shown in:\n",
      "    https://scikit-learn.org/stable/modules/preprocessing.html\n",
      "Please also refer to the documentation for alternative solver options:\n",
      "    https://scikit-learn.org/stable/modules/linear_model.html#logistic-regression\n",
      "  n_iter_i = _check_optimize_result(\n"
     ]
    }
   ],
   "source": [
    "print(np.mean(cross_val_score(logreg, X_train, y_train, cv=5)))"
   ]
  },
  {
   "cell_type": "markdown",
   "metadata": {},
   "source": [
    "### PCA - LDA"
   ]
  },
  {
   "cell_type": "code",
   "execution_count": 51,
   "metadata": {},
   "outputs": [
    {
     "name": "stdout",
     "output_type": "stream",
     "text": [
      "[0.75754447 0.88217047 0.92470404 0.94664792 0.95886763 0.96457793\n",
      " 0.96839173 0.97177388 0.97466304 0.97687876]\n"
     ]
    }
   ],
   "source": [
    "pca = PCA(n_components=10)\n",
    "X = pca.fit_transform(X_train)\n",
    "print(pca.explained_variance_ratio_.cumsum())"
   ]
  },
  {
   "cell_type": "code",
   "execution_count": 52,
   "metadata": {},
   "outputs": [],
   "source": [
    "# X_pca = PCA(2).fit_transform(X_train)\n",
    "# kwargs = dict(cmap = plt.cm.get_cmap('rainbow', 5), edgecolor='none', alpha=0.6)\n",
    "# plt.scatter(X_pca[:, 0], X_pca[:, 1], c=y_train, **kwargs)"
   ]
  },
  {
   "cell_type": "code",
   "execution_count": 53,
   "metadata": {},
   "outputs": [
    {
     "name": "stdout",
     "output_type": "stream",
     "text": [
      "0.6151614581704344\n"
     ]
    }
   ],
   "source": [
    "lda = LDA()\n",
    "print(np.mean(cross_val_score(lda, X_train, y_train, cv=5))) "
   ]
  },
  {
   "cell_type": "markdown",
   "metadata": {},
   "source": [
    "### XGBClassifier()"
   ]
  },
  {
   "cell_type": "code",
   "execution_count": 54,
   "metadata": {},
   "outputs": [],
   "source": [
    "n_iter = 1000\n",
    "k_fold = 5\n",
    " \n",
    "cv = StratifiedKFold(n_splits=k_fold,shuffle=True)\n",
    " \n",
    "# initialize the classifier\n",
    "GB = xgb.XGBClassifier(n_estimators=115) #, tree_method='gpu_hist', predictor='gpu_predictor', gpu_id=0)\n",
    " \n",
    "param_grid = {'max_depth': sp_randint(1, 90),\n",
    "              'learning_rate': sp_uniform(loc=0e0,scale=1e0),\n",
    "              'objective':['multi:softprob'],\n",
    "              'nthread': [8],\n",
    "              'missing': [np.nan],\n",
    "              'reg_alpha': [0.01,0.017782794,0.031622777,0.056234133,\\\n",
    "                            0.1,0.17782794,0.31622777,0.56234133,1.,1.77827941,\\\n",
    "                            3.16227766,5.62341325,10.,\\\n",
    "                            17.7827941,31.6227766,56.2341325,100.],\n",
    "              'colsample_bytree': sp_uniform(loc=0.2e0,scale=0.8e0),\n",
    "              'subsample': sp_uniform(loc=0.2e0,scale=0.8e0),\n",
    "              'n_estimators': sp_randint(50, 200)}"
   ]
  },
  {
   "cell_type": "code",
   "execution_count": 55,
   "metadata": {},
   "outputs": [],
   "source": [
    "# search_GB = RandomizedSearchCV(GB, param_grid, scoring='neg_log_loss',\\\n",
    "#                n_iter=n_iter, cv=cv, verbose=True, n_jobs = 1).fit(X_train, y_train)\n",
    "# print(search_GB.best_score_)\n",
    "# print(search_GB.best_params_)"
   ]
  },
  {
   "cell_type": "code",
   "execution_count": 56,
   "metadata": {},
   "outputs": [],
   "source": [
    "# save the results\n",
    "# f_name = open('data\\xgboost_RSCV.dat','w')\n",
    "# pickle.dump([search_GB.grid_scores_],f_name)\n",
    "# f_name.close()\n",
    "\n",
    "# f_name = open('data\\xgboost_params.dat','w')\n",
    "# pickle.dump([search_GB.best_params_],f_name)\n",
    "# f_name.close()"
   ]
  },
  {
   "cell_type": "code",
   "execution_count": 57,
   "metadata": {},
   "outputs": [],
   "source": [
    "XGB_model = xgb.XGBClassifier(reg_alpha=1.77827941, n_jobs=-1, colsample_bytree=0.5722532094026564, \n",
    "                              objective='multi:softprob', n_estimators=115, max_depth=22, \n",
    "                              learning_rate=0.07578955028741008, subsample=0.848348985132586)"
   ]
  },
  {
   "cell_type": "code",
   "execution_count": 58,
   "metadata": {},
   "outputs": [
    {
     "name": "stdout",
     "output_type": "stream",
     "text": [
      "XGB Accuracy: 0.6971567527123083\n"
     ]
    }
   ],
   "source": [
    "XGB_model.fit(X_train,y_train)\n",
    "\n",
    "XGB_pred = XGB_model.predict(X_test)\n",
    "print(\"XGB Accuracy:\", XGB_model.score(X_test, y_test))"
   ]
  },
  {
   "cell_type": "markdown",
   "metadata": {},
   "source": [
    "#### Plotting Feature Importance"
   ]
  },
  {
   "cell_type": "code",
   "execution_count": 59,
   "metadata": {},
   "outputs": [
    {
     "data": {
      "image/png": "[encoded data removed]",
      "text/plain": [
       "<Figure size 1440x864 with 1 Axes>"
      ]
     },
     "metadata": {},
     "output_type": "display_data"
    }
   ],
   "source": [
    "tmp = XGB_model.get_booster().get_score(importance_type=\"gain\")\n",
    "s_tmp = {k: v for k, v in sorted(tmp.items(), key=lambda item: int(item[0][1:]))}\n",
    "# s_tmp = {k: v for k, v in tmp.items()}\n",
    "tmp = dict((f_train.columns[i], value) for i, (key, value) in enumerate(s_tmp.items()))\n",
    "\n",
    "sorted_tmp = {k: v for k, v in sorted(tmp.items(), key=lambda item: item[1])}\n",
    "pyplot.figure(figsize=(20,12))\n",
    "pyplot.bar(list(sorted_tmp.keys()), list(sorted_tmp.values()))\n",
    "pyplot.xticks(rotation=90)\n",
    "\n",
    "pyplot.show()"
   ]
  },
  {
   "cell_type": "code",
   "execution_count": 60,
   "metadata": {},
   "outputs": [
    {
     "data": {
      "text/plain": [
       "{'BreedPrec_69': 0.1347999575,\n",
       " 'BreedPrec_24': 0.14435342943333332,\n",
       " 'BreedPrec_66': 0.19263573736250003,\n",
       " 'BreedPrec_83': 0.2334954735,\n",
       " 'BreedPrec_10': 0.23464574671249996,\n",
       " 'BreedPrec_13': 0.23922412600833332,\n",
       " 'BreedPrec_70': 0.2410297395,\n",
       " 'BreedPrec_35': 0.2753504345,\n",
       " 'BreedPrec_93': 0.28986620890938364,\n",
       " 'BreedPrec_74': 0.29033831753293776,\n",
       " 'BreedPrec_90': 0.296063322203392,\n",
       " 'BreedPrec_81': 0.2975276547416632,\n",
       " 'BreedPrec_76': 0.2979716764339947,\n",
       " 'BreedPrec_72': 0.30003563275542117,\n",
       " 'BreedPrec_95': 0.30538974699958193,\n",
       " 'BreedPrec_89': 0.3061557440276539,\n",
       " 'BreedPrec_42': 0.3072857329,\n",
       " 'BreedPrec_15': 0.3119078730415584,\n",
       " 'BreedPrec_12': 0.3121140628379866,\n",
       " 'BreedPrec_91': 0.31404440103009285,\n",
       " 'BreedPrec_51': 0.3141713143721067,\n",
       " 'BreedPrec_96': 0.31626356449166665,\n",
       " 'BreedPrec_80': 0.3186976549643878,\n",
       " 'BreedPrec_8': 0.3188767664507041,\n",
       " 'BreedPrec_60': 0.31901128667234796,\n",
       " 'BreedPrec_19': 0.31904021486666856,\n",
       " 'BreedPrec_94': 0.3203078132039661,\n",
       " 'BreedPrec_92': 0.3210203467705033,\n",
       " 'BreedPrec_73': 0.32209155029079467,\n",
       " 'BreedPrec_75': 0.3234854065487299,\n",
       " 'BreedPrec_27': 0.32591604725658946,\n",
       " 'BreedPrec_79': 0.32630292370535885,\n",
       " 'BreedPrec_78': 0.32962524691818157,\n",
       " 'BreedPrec_32': 0.33331770119634907,\n",
       " 'BreedPrec_28': 0.33360399929245116,\n",
       " 'BreedPrec_2': 0.3357220624903846,\n",
       " 'BreedPrec_82': 0.33956548716080553,\n",
       " 'Hour_23': 0.3397650402374999,\n",
       " 'YearPeriodPrec': 0.34179764792702944,\n",
       " 'BreedPrec_6': 0.3428128968822857,\n",
       " 'BreedPrec_62': 0.34292924388728524,\n",
       " 'BreedPrec_34': 0.3446040341540676,\n",
       " 'BreedPrec_46': 0.3488118098917243,\n",
       " 'BreedPrec_21': 0.34911734717354437,\n",
       " 'BreedPrec_67': 0.34941934270606456,\n",
       " 'BreedPrec_20': 0.34965693020643834,\n",
       " 'BreedPrec_64': 0.35284303265451417,\n",
       " 'BreedPrec_37': 0.352884531,\n",
       " 'BreedPrec_71': 0.35524138513693815,\n",
       " 'Hour_9': 0.3557148387275265,\n",
       " 'BreedPrec_52': 0.35581445695775,\n",
       " 'BreedPrec_39': 0.3593666366576922,\n",
       " 'BreedPrec_61': 0.3597037156325245,\n",
       " 'BreedPrec_30': 0.35982740250124845,\n",
       " 'BreedPrec_31': 0.36562845546287404,\n",
       " 'BreedPrec_54': 0.36655393326118685,\n",
       " 'BreedPrec_22': 0.3679910117973408,\n",
       " 'BreedPrec_50': 0.3680699867644459,\n",
       " 'Day': 0.368719125748114,\n",
       " 'Hour_10': 0.36975850545382727,\n",
       " 'BreedPrec_3': 0.37566288665486886,\n",
       " 'BreedPrec_57': 0.376677949955319,\n",
       " 'Hour_12': 0.37695137351393265,\n",
       " 'Hour_11': 0.37780182502786624,\n",
       " 'BreedPrec_87': 0.37797789433330087,\n",
       " 'Month': 0.3782587511479988,\n",
       " 'BreedPrec_33': 0.3785474114923077,\n",
       " 'BreedPrec_29': 0.3793842152856098,\n",
       " 'BreedPrec_11': 0.38239703165999994,\n",
       " 'BreedPrec_16': 0.38440918086578846,\n",
       " 'BreedPrec_65': 0.3883026991126806,\n",
       " 'BreedPrec_26': 0.39156850101435847,\n",
       " 'BreedPrec_5': 0.3960980573333333,\n",
       " 'BreedPrec_4': 0.398492453417857,\n",
       " 'BreedPrec_17': 0.3986417643205254,\n",
       " 'BreedPrec_85': 0.3997225360044307,\n",
       " 'DayName': 0.41506382594429647,\n",
       " 'BreedPrec_7': 0.415243254932977,\n",
       " 'BreedPrec_49': 0.41582435332212586,\n",
       " 'NameLen': 0.4161345556623214,\n",
       " 'BreedPrec_58': 0.41810381976818184,\n",
       " 'BreedPrec_55': 0.4212303832131917,\n",
       " 'BreedPrec_88': 0.42505330858297835,\n",
       " 'Sex': 0.4417230052195662,\n",
       " 'BreedPrec_44': 0.4445244162397211,\n",
       " 'BreedPrec_86': 0.44715651036885457,\n",
       " 'BreedPrec_18': 0.45868728569951267,\n",
       " 'BreedPrec_84': 0.45942006058518525,\n",
       " 'BreedPrec_53': 0.46332492365657896,\n",
       " 'BreedPrec_48': 0.4652388792861385,\n",
       " 'BreedPrec_40': 0.4693880605181818,\n",
       " 'BreedPrec_47': 0.4718797260363635,\n",
       " 'BreedPrec_14': 0.4809514148899999,\n",
       " 'Hour_13': 0.48112907499245905,\n",
       " 'BreedPrec_25': 0.4837842944400001,\n",
       " 'BreedPrec_36': 0.4885881516561111,\n",
       " 'Hour_22': 0.49254714088888896,\n",
       " 'BreedPrec_77': 0.4949365402833331,\n",
       " 'BreedPrec_9': 0.4967408267857144,\n",
       " 'BreedPrec_68': 0.49811048500000005,\n",
       " 'BreedPrec_23': 0.499751985,\n",
       " 'BreedPrec_56': 0.519260883,\n",
       " 'BreedPrec_41': 0.5384654576038601,\n",
       " 'BreedPrec_43': 0.5537085267646782,\n",
       " 'Hour_8': 0.5686131914775305,\n",
       " 'Hour_21': 0.579223633,\n",
       " 'BreedPrec_1': 0.5971815620948602,\n",
       " 'NameFreq': 0.6113463324695769,\n",
       " 'Hour_3': 0.617755713514145,\n",
       " 'BreedPrec_45': 0.6312397231010204,\n",
       " 'Hour_14': 0.6669649042669966,\n",
       " 'Hour_5': 0.7220370151724376,\n",
       " 'Hour_16': 0.7252202076448226,\n",
       " 'BreedPrec_38': 0.7344602674280108,\n",
       " 'Hour_18': 0.7370074857777777,\n",
       " 'Hour_7': 0.8078685498163769,\n",
       " 'BreedPrec_63': 0.8304523413666657,\n",
       " 'Hour_15': 0.8389924396980065,\n",
       " 'Hour_19': 0.869185211,\n",
       " 'BreedPrec_59': 0.98222863475,\n",
       " 'Hour_17': 0.9994728585451281,\n",
       " 'Weekday': 1.0042414363358612,\n",
       " 'Hour_20': 1.133028651777778,\n",
       " 'AgeuponOutcomeProc': 1.2325720995132412,\n",
       " 'AnimalTypeBinary': 1.4716645338376833,\n",
       " 'TimeOfDayPrec': 1.5639374513673456,\n",
       " 'Hour_6': 1.8446054801107905,\n",
       " 'AgePrec': 3.1154902763898176,\n",
       " 'NameBinary': 4.176483053085369,\n",
       " 'Hour_0': 5.749221944900071,\n",
       " 'Intact': 20.600434728392703}"
      ]
     },
     "execution_count": 60,
     "metadata": {},
     "output_type": "execute_result"
    }
   ],
   "source": [
    "# printing sorted features by how important they are...\n",
    "sorted_tmp"
   ]
  },
  {
   "cell_type": "markdown",
   "metadata": {},
   "source": [
    "#### Confusion Matrix and Classification Report of XGBoost"
   ]
  },
  {
   "cell_type": "code",
   "execution_count": 61,
   "metadata": {},
   "outputs": [
    {
     "name": "stdout",
     "output_type": "stream",
     "text": [
      "[[8.15655396e-01 0.00000000e+00 4.63177397e-04 1.10236220e-01\n",
      "  7.36452061e-02]\n",
      " [3.22580645e-02 3.22580645e-02 9.67741935e-02 9.67741935e-02\n",
      "  7.41935484e-01]\n",
      " [1.24223602e-01 0.00000000e+00 2.39130435e-01 2.04968944e-01\n",
      "  4.31677019e-01]\n",
      " [3.65263158e-01 0.00000000e+00 4.21052632e-03 5.08421053e-01\n",
      "  1.22105263e-01]\n",
      " [1.56050955e-01 5.30785563e-04 1.27388535e-02 8.49256900e-02\n",
      "  7.45753715e-01]]\n"
     ]
    },
    {
     "data": {
      "image/png": "[encoded data removed]",
      "text/plain": [
       "<Figure size 360x288 with 2 Axes>"
      ]
     },
     "metadata": {},
     "output_type": "display_data"
    }
   ],
   "source": [
    "cm = confusion_matrix(y_test, XGB_pred)\n",
    "cm = cm.astype('float') / cm.sum(axis=1)[:, np.newaxis]\n",
    "print(cm)\n",
    "\n",
    "df_cm = pd.DataFrame(cm, range(5), range(5))\n",
    "plt.figure(figsize=(5,4))\n",
    "sn.set(font_scale=0.5) # for label size\n",
    "sn.heatmap(df_cm, annot=True, annot_kws={\"size\": 10}) # font size\n",
    "plt.show()"
   ]
  },
  {
   "cell_type": "code",
   "execution_count": 62,
   "metadata": {},
   "outputs": [
    {
     "name": "stdout",
     "output_type": "stream",
     "text": [
      "                 precision    recall  f1-score   support\n",
      "\n",
      "       Adoption       0.72      0.82      0.77      2159\n",
      "           Died       0.50      0.03      0.06        31\n",
      "     Euthanasia       0.71      0.24      0.36       322\n",
      "Return_to_owner       0.51      0.51      0.51       950\n",
      "       Transfer       0.76      0.75      0.75      1884\n",
      "\n",
      "       accuracy                           0.70      5346\n",
      "      macro avg       0.64      0.47      0.49      5346\n",
      "   weighted avg       0.70      0.70      0.69      5346\n",
      "\n"
     ]
    }
   ],
   "source": [
    "target_names = ['Adoption','Died','Euthanasia','Return_to_owner','Transfer']\n",
    "print(classification_report(y_test, XGB_pred, target_names=target_names))"
   ]
  },
  {
   "cell_type": "markdown",
   "metadata": {},
   "source": [
    "### ADABoost and Random Forests"
   ]
  },
  {
   "cell_type": "code",
   "execution_count": 68,
   "metadata": {},
   "outputs": [
    {
     "name": "stdout",
     "output_type": "stream",
     "text": [
      "Adaboost Random Forest Accuracy: 68.14440703329592%\n"
     ]
    }
   ],
   "source": [
    "clf = RandomForestClassifier(n_estimators=115, min_samples_split=10,\n",
    "                                                   min_samples_leaf=2, max_features='sqrt', max_depth=None,\n",
    "                                                   bootstrap=True)\n",
    "bclf = AdaBoostClassifier(base_estimator=clf,n_estimators=clf.n_estimators)\n",
    "\n",
    "bclf.fit(X_train,y_train)\n",
    "\n",
    "bclf_pred = bclf.predict(X_test)\n",
    "print(\"Adaboost Random Forest Accuracy: {}%\".format(bclf.score(X_test, y_test)*100))"
   ]
  },
  {
   "cell_type": "markdown",
   "metadata": {},
   "source": [
    "#### Confusion Matrix and Classification Report of ADABoost and Random Forests"
   ]
  },
  {
   "cell_type": "code",
   "execution_count": 69,
   "metadata": {},
   "outputs": [
    {
     "name": "stdout",
     "output_type": "stream",
     "text": [
      "[[0.81056044 0.         0.00138953 0.1065308  0.08151922]\n",
      " [0.06451613 0.03225806 0.09677419 0.09677419 0.70967742]\n",
      " [0.09627329 0.         0.22360248 0.22049689 0.45962733]\n",
      " [0.39894737 0.         0.00315789 0.46631579 0.13157895]\n",
      " [0.17038217 0.         0.01167728 0.08704883 0.73089172]]\n"
     ]
    },
    {
     "data": {
      "image/png": "[encoded data removed]",
      "text/plain": [
       "<Figure size 360x288 with 2 Axes>"
      ]
     },
     "metadata": {},
     "output_type": "display_data"
    }
   ],
   "source": [
    "cm = confusion_matrix(y_test, bclf_pred)\n",
    "cm = cm.astype('float') / cm.sum(axis=1)[:, np.newaxis]\n",
    "print(cm)\n",
    "\n",
    "df_cm = pd.DataFrame(cm, range(5), range(5))\n",
    "plt.figure(figsize=(5,4))\n",
    "sn.set(font_scale=0.5) # for label size\n",
    "sn.heatmap(df_cm, annot=True, annot_kws={\"size\": 10}) # font size\n",
    "plt.show()"
   ]
  },
  {
   "cell_type": "code",
   "execution_count": 70,
   "metadata": {},
   "outputs": [
    {
     "name": "stdout",
     "output_type": "stream",
     "text": [
      "                 precision    recall  f1-score   support\n",
      "\n",
      "       Adoption       0.70      0.81      0.75      2159\n",
      "           Died       1.00      0.03      0.06        31\n",
      "     Euthanasia       0.70      0.22      0.34       322\n",
      "Return_to_owner       0.49      0.47      0.48       950\n",
      "       Transfer       0.75      0.73      0.74      1884\n",
      "\n",
      "       accuracy                           0.68      5346\n",
      "      macro avg       0.73      0.45      0.47      5346\n",
      "   weighted avg       0.68      0.68      0.67      5346\n",
      "\n"
     ]
    }
   ],
   "source": [
    "target_names = ['Adoption','Died','Euthanasia','Return_to_owner','Transfer']\n",
    "print(classification_report(y_test, bclf_pred, target_names=target_names))"
   ]
  },
  {
   "cell_type": "code",
   "execution_count": 71,
   "metadata": {},
   "outputs": [
    {
     "name": "stdout",
     "output_type": "stream",
     "text": [
      "0.6779686766271962\n"
     ]
    }
   ],
   "source": [
    "print(np.mean(cross_val_score(bclf, X_train, y_train, cv=5)))"
   ]
  },
  {
   "cell_type": "markdown",
   "metadata": {},
   "source": [
    "### ADABoost and Decision Tree"
   ]
  },
  {
   "cell_type": "code",
   "execution_count": 76,
   "metadata": {},
   "outputs": [
    {
     "name": "stdout",
     "output_type": "stream",
     "text": [
      "Adaboost Decision Tree Accuracy: 68.2005237560793%\n"
     ]
    }
   ],
   "source": [
    "bdt = AdaBoostClassifier(tree.DecisionTreeClassifier(),\n",
    "                         algorithm=\"SAMME\",\n",
    "                         n_estimators=500)\n",
    "\n",
    "bdt.fit(X_train, y_train)\n",
    "y_pred_ada = bdt.predict(X_test)\n",
    "accAda = accuracy_score(y_test, y_pred_ada)\n",
    "print(\"Adaboost Decision Tree Accuracy: {}%\".format(accAda*100))"
   ]
  },
  {
   "cell_type": "markdown",
   "metadata": {},
   "source": [
    "#### Confusion Matrix and Classification Report of ADABoost and Decision Tree"
   ]
  },
  {
   "cell_type": "code",
   "execution_count": 77,
   "metadata": {},
   "outputs": [
    {
     "name": "stdout",
     "output_type": "stream",
     "text": [
      "[[0.83974062 0.         0.00185271 0.09170912 0.06669755]\n",
      " [0.06451613 0.         0.06451613 0.09677419 0.77419355]\n",
      " [0.13975155 0.         0.16770186 0.18322981 0.50931677]\n",
      " [0.42947368 0.         0.00736842 0.43368421 0.12947368]\n",
      " [0.19267516 0.         0.00955414 0.07218684 0.72558386]]\n"
     ]
    },
    {
     "data": {
      "image/png": "[encoded data removed]",
      "text/plain": [
       "<Figure size 360x288 with 2 Axes>"
      ]
     },
     "metadata": {},
     "output_type": "display_data"
    }
   ],
   "source": [
    "cm = confusion_matrix(y_test, y_pred_ada)\n",
    "cm = cm.astype('float') / cm.sum(axis=1)[:, np.newaxis]\n",
    "print(cm)\n",
    "\n",
    "df_cm = pd.DataFrame(cm, range(5), range(5))\n",
    "plt.figure(figsize=(5,4))\n",
    "sn.set(font_scale=0.5) # for label size\n",
    "sn.heatmap(df_cm, annot=True, annot_kws={\"size\": 10}) # font size\n",
    "plt.show()"
   ]
  },
  {
   "cell_type": "code",
   "execution_count": 78,
   "metadata": {},
   "outputs": [
    {
     "name": "stdout",
     "output_type": "stream",
     "text": [
      "                 precision    recall  f1-score   support\n",
      "\n",
      "       Adoption       0.69      0.84      0.76      2159\n",
      "           Died       0.00      0.00      0.00        31\n",
      "     Euthanasia       0.64      0.17      0.27       322\n",
      "Return_to_owner       0.51      0.43      0.47       950\n",
      "       Transfer       0.75      0.73      0.74      1884\n",
      "\n",
      "       accuracy                           0.68      5346\n",
      "      macro avg       0.52      0.43      0.45      5346\n",
      "   weighted avg       0.67      0.68      0.66      5346\n",
      "\n"
     ]
    },
    {
     "name": "stderr",
     "output_type": "stream",
     "text": [
      "c:\\users\\mariliatmf\\documents\\anaconda3\\envs\\py37\\lib\\site-packages\\sklearn\\metrics\\_classification.py:1272: UndefinedMetricWarning: Precision and F-score are ill-defined and being set to 0.0 in labels with no predicted samples. Use `zero_division` parameter to control this behavior.\n",
      "  _warn_prf(average, modifier, msg_start, len(result))\n"
     ]
    }
   ],
   "source": [
    "target_names = ['Adoption','Died','Euthanasia','Return_to_owner','Transfer']\n",
    "print(classification_report(y_test, y_pred_ada, target_names=target_names))"
   ]
  },
  {
   "cell_type": "code",
   "execution_count": 79,
   "metadata": {},
   "outputs": [
    {
     "name": "stdout",
     "output_type": "stream",
     "text": [
      "0.659587120878246\n"
     ]
    }
   ],
   "source": [
    "print(np.mean(cross_val_score(bdt, X_train, y_train, cv=5)))"
   ]
  },
  {
   "cell_type": "markdown",
   "metadata": {},
   "source": [
    "### Gradient Boosting using sklearn"
   ]
  },
  {
   "cell_type": "code",
   "execution_count": 80,
   "metadata": {},
   "outputs": [
    {
     "name": "stdout",
     "output_type": "stream",
     "text": [
      "Gradient Boosting Accuracy: 68.23793490460157%\n"
     ]
    }
   ],
   "source": [
    "clf = GradientBoostingClassifier(n_estimators=115, subsample=0.848348985132586,min_samples_leaf=2, \n",
    "                                 learning_rate=0.07578955028741008,max_depth=22, \n",
    "                                 random_state=42).fit(X_train, y_train)\n",
    "y_pred_gb = clf.predict(X_test)\n",
    "print(\"Gradient Boosting Accuracy: {}%\".format(clf.score(X_test, y_test)*100))"
   ]
  },
  {
   "cell_type": "markdown",
   "metadata": {},
   "source": [
    "#### Confusion Matrix and Classification Report of Gradient Boosting"
   ]
  },
  {
   "cell_type": "code",
   "execution_count": 81,
   "metadata": {},
   "outputs": [
    {
     "name": "stdout",
     "output_type": "stream",
     "text": [
      "[[8.13339509e-01 4.63177397e-04 9.26354794e-04 1.13941640e-01\n",
      "  7.13293191e-02]\n",
      " [6.45161290e-02 3.22580645e-02 1.61290323e-01 1.29032258e-01\n",
      "  6.12903226e-01]\n",
      " [1.24223602e-01 9.31677019e-03 2.20496894e-01 2.08074534e-01\n",
      "  4.37888199e-01]\n",
      " [3.77894737e-01 0.00000000e+00 1.05263158e-02 4.67368421e-01\n",
      "  1.44210526e-01]\n",
      " [1.60828025e-01 2.65392781e-03 1.96390658e-02 8.65180467e-02\n",
      "  7.30360934e-01]]\n"
     ]
    },
    {
     "data": {
      "image/png": "[encoded data removed]",
      "text/plain": [
       "<Figure size 360x288 with 2 Axes>"
      ]
     },
     "metadata": {},
     "output_type": "display_data"
    }
   ],
   "source": [
    "cm = confusion_matrix(y_test, y_pred_gb)\n",
    "cm = cm.astype('float') / cm.sum(axis=1)[:, np.newaxis]\n",
    "print(cm)\n",
    "\n",
    "df_cm = pd.DataFrame(cm, range(5), range(5))\n",
    "plt.figure(figsize=(5,4))\n",
    "sn.set(font_scale=0.5) # for label size\n",
    "sn.heatmap(df_cm, annot=True, annot_kws={\"size\": 10}) # font size\n",
    "plt.show()"
   ]
  },
  {
   "cell_type": "code",
   "execution_count": 82,
   "metadata": {},
   "outputs": [
    {
     "name": "stdout",
     "output_type": "stream",
     "text": [
      "                 precision    recall  f1-score   support\n",
      "\n",
      "       Adoption       0.71      0.81      0.76      2159\n",
      "           Died       0.10      0.03      0.05        31\n",
      "     Euthanasia       0.57      0.22      0.32       322\n",
      "Return_to_owner       0.48      0.47      0.47       950\n",
      "       Transfer       0.75      0.73      0.74      1884\n",
      "\n",
      "       accuracy                           0.68      5346\n",
      "      macro avg       0.52      0.45      0.47      5346\n",
      "   weighted avg       0.67      0.68      0.67      5346\n",
      "\n"
     ]
    }
   ],
   "source": [
    "target_names = ['Adoption','Died','Euthanasia','Return_to_owner','Transfer']\n",
    "print(classification_report(y_test, y_pred_gb, target_names=target_names))"
   ]
  },
  {
   "cell_type": "code",
   "execution_count": 83,
   "metadata": {},
   "outputs": [
    {
     "name": "stdout",
     "output_type": "stream",
     "text": [
      "0.6833465839536337\n"
     ]
    }
   ],
   "source": [
    "print(np.mean(cross_val_score(clf, X_train, y_train, cv=5)))"
   ]
  },
  {
   "cell_type": "markdown",
   "metadata": {},
   "source": [
    "### VotingClassifier()"
   ]
  },
  {
   "cell_type": "markdown",
   "metadata": {},
   "source": [
    "#### estimators= ('rf', grid_search_random_forest), ('xgb', XGB_model), ('svm', svm_model), voting='soft'"
   ]
  },
  {
   "cell_type": "code",
   "execution_count": 84,
   "metadata": {},
   "outputs": [
    {
     "data": {
      "text/plain": [
       "VotingClassifier(estimators=[('rf',\n",
       "                              RandomForestClassifier(bootstrap=True,\n",
       "                                                     ccp_alpha=0.0,\n",
       "                                                     class_weight=None,\n",
       "                                                     criterion='gini',\n",
       "                                                     max_depth=None,\n",
       "                                                     max_features='sqrt',\n",
       "                                                     max_leaf_nodes=None,\n",
       "                                                     max_samples=None,\n",
       "                                                     min_impurity_decrease=0.0,\n",
       "                                                     min_impurity_split=None,\n",
       "                                                     min_samples_leaf=2,\n",
       "                                                     min_samples_split=10,\n",
       "                                                     min_weight_fraction_leaf=0.0,\n",
       "                                                     n_estimators=408,\n",
       "                                                     n_jobs=None,\n",
       "                                                     oob_scor...\n",
       "                                            tree_method=None,\n",
       "                                            validate_parameters=False,\n",
       "                                            verbosity=None)),\n",
       "                             ('svm',\n",
       "                              SVC(C=1.0, break_ties=False, cache_size=200,\n",
       "                                  class_weight=None, coef0=0.0,\n",
       "                                  decision_function_shape='ovr', degree=3,\n",
       "                                  gamma='scale', kernel='rbf', max_iter=-1,\n",
       "                                  probability=True, random_state=None,\n",
       "                                  shrinking=True, tol=0.001, verbose=False))],\n",
       "                 flatten_transform=True, n_jobs=None, voting='soft',\n",
       "                 weights=None)"
      ]
     },
     "execution_count": 84,
     "metadata": {},
     "output_type": "execute_result"
    }
   ],
   "source": [
    "eclf1 = VotingClassifier(estimators=[('rf', grid_search_random_forest), ('xgb', XGB_model), \n",
    "                                     ('svm', svm_model)], voting='soft')\n",
    "eclf1.fit(X_train,y_train)"
   ]
  },
  {
   "cell_type": "code",
   "execution_count": 85,
   "metadata": {},
   "outputs": [
    {
     "name": "stdout",
     "output_type": "stream",
     "text": [
      "Voting Accuracy: 68.66816311260756%\n"
     ]
    }
   ],
   "source": [
    "eclf1_pred = eclf1.predict(X_test)\n",
    "print(\"Voting Accuracy: {}%\".format(eclf1.score(X_test, y_test)*100))"
   ]
  },
  {
   "cell_type": "code",
   "execution_count": 86,
   "metadata": {},
   "outputs": [
    {
     "name": "stdout",
     "output_type": "stream",
     "text": [
      "[[8.42982862e-01 0.00000000e+00 4.63177397e-04 9.03195924e-02\n",
      "  6.62343678e-02]\n",
      " [6.45161290e-02 0.00000000e+00 3.22580645e-02 9.67741935e-02\n",
      "  8.06451613e-01]\n",
      " [1.18012422e-01 0.00000000e+00 1.39751553e-01 2.39130435e-01\n",
      "  5.03105590e-01]\n",
      " [4.35789474e-01 0.00000000e+00 2.10526316e-03 4.57894737e-01\n",
      "  1.04210526e-01]\n",
      " [1.78874735e-01 0.00000000e+00 7.96178344e-03 8.54564756e-02\n",
      "  7.27707006e-01]]\n"
     ]
    },
    {
     "data": {
      "image/png": "[encoded data removed]",
      "text/plain": [
       "<Figure size 360x288 with 2 Axes>"
      ]
     },
     "metadata": {},
     "output_type": "display_data"
    }
   ],
   "source": [
    "cm = confusion_matrix(y_test, eclf1_pred) \n",
    "cm = cm.astype('float') / cm.sum(axis=1)[:, np.newaxis]\n",
    "print(cm)\n",
    "\n",
    "df_cm = pd.DataFrame(cm, range(5), range(5))\n",
    "plt.figure(figsize=(5,4))\n",
    "sn.set(font_scale=0.5) # for label size\n",
    "sn.heatmap(df_cm, annot=True, annot_kws={\"size\": 10}) # font size\n",
    "plt.show()"
   ]
  },
  {
   "cell_type": "code",
   "execution_count": 87,
   "metadata": {},
   "outputs": [
    {
     "name": "stdout",
     "output_type": "stream",
     "text": [
      "                 precision    recall  f1-score   support\n",
      "\n",
      "       Adoption       0.70      0.84      0.76      2159\n",
      "           Died       0.00      0.00      0.00        31\n",
      "     Euthanasia       0.70      0.14      0.23       322\n",
      "Return_to_owner       0.50      0.46      0.48       950\n",
      "       Transfer       0.76      0.73      0.74      1884\n",
      "\n",
      "       accuracy                           0.69      5346\n",
      "      macro avg       0.53      0.43      0.44      5346\n",
      "   weighted avg       0.68      0.69      0.67      5346\n",
      "\n"
     ]
    },
    {
     "name": "stderr",
     "output_type": "stream",
     "text": [
      "c:\\users\\mariliatmf\\documents\\anaconda3\\envs\\py37\\lib\\site-packages\\sklearn\\metrics\\_classification.py:1272: UndefinedMetricWarning: Precision and F-score are ill-defined and being set to 0.0 in labels with no predicted samples. Use `zero_division` parameter to control this behavior.\n",
      "  _warn_prf(average, modifier, msg_start, len(result))\n"
     ]
    }
   ],
   "source": [
    "target_names = ['Adoption','Died','Euthanasia','Return_to_owner','Transfer']\n",
    "print(classification_report(y_test, eclf1_pred, target_names=target_names))"
   ]
  },
  {
   "cell_type": "markdown",
   "metadata": {},
   "source": [
    "#### estimators= ('rf', grid_search_random_forest), ('xgb', XGB_model), ('knn', knn_model), voting='soft'"
   ]
  },
  {
   "cell_type": "code",
   "execution_count": 88,
   "metadata": {},
   "outputs": [
    {
     "data": {
      "text/plain": [
       "VotingClassifier(estimators=[('rf',\n",
       "                              RandomForestClassifier(bootstrap=True,\n",
       "                                                     ccp_alpha=0.0,\n",
       "                                                     class_weight=None,\n",
       "                                                     criterion='gini',\n",
       "                                                     max_depth=None,\n",
       "                                                     max_features='sqrt',\n",
       "                                                     max_leaf_nodes=None,\n",
       "                                                     max_samples=None,\n",
       "                                                     min_impurity_decrease=0.0,\n",
       "                                                     min_impurity_split=None,\n",
       "                                                     min_samples_leaf=2,\n",
       "                                                     min_samples_split=10,\n",
       "                                                     min_weight_fraction_leaf=0.0,\n",
       "                                                     n_estimators=408,\n",
       "                                                     n_jobs=None,\n",
       "                                                     oob_scor...\n",
       "                                            reg_alpha=1.77827941, reg_lambda=1,\n",
       "                                            scale_pos_weight=None,\n",
       "                                            subsample=0.848348985132586,\n",
       "                                            tree_method=None,\n",
       "                                            validate_parameters=False,\n",
       "                                            verbosity=None)),\n",
       "                             ('knn',\n",
       "                              KNeighborsClassifier(algorithm='auto',\n",
       "                                                   leaf_size=30,\n",
       "                                                   metric='minkowski',\n",
       "                                                   metric_params=None,\n",
       "                                                   n_jobs=-1, n_neighbors=1,\n",
       "                                                   p=2, weights='uniform'))],\n",
       "                 flatten_transform=True, n_jobs=None, voting='soft',\n",
       "                 weights=None)"
      ]
     },
     "execution_count": 88,
     "metadata": {},
     "output_type": "execute_result"
    }
   ],
   "source": [
    "eclf2 = VotingClassifier(estimators=[('rf', grid_search_random_forest), ('xgb', XGB_model), \n",
    "                                     ('knn', knn_model)], voting='soft')\n",
    "eclf2.fit(X_train,y_train)"
   ]
  },
  {
   "cell_type": "code",
   "execution_count": 89,
   "metadata": {},
   "outputs": [
    {
     "name": "stdout",
     "output_type": "stream",
     "text": [
      "Voting Accuracy: 64.88963711185933%\n"
     ]
    }
   ],
   "source": [
    "eclf2_pred = eclf1.predict(X_test)\n",
    "print(\"Voting Accuracy: {}%\".format(eclf2.score(X_test, y_test)*100))"
   ]
  },
  {
   "cell_type": "code",
   "execution_count": 90,
   "metadata": {},
   "outputs": [
    {
     "name": "stdout",
     "output_type": "stream",
     "text": [
      "[[8.42982862e-01 0.00000000e+00 4.63177397e-04 9.03195924e-02\n",
      "  6.62343678e-02]\n",
      " [6.45161290e-02 0.00000000e+00 3.22580645e-02 9.67741935e-02\n",
      "  8.06451613e-01]\n",
      " [1.18012422e-01 0.00000000e+00 1.39751553e-01 2.39130435e-01\n",
      "  5.03105590e-01]\n",
      " [4.35789474e-01 0.00000000e+00 2.10526316e-03 4.57894737e-01\n",
      "  1.04210526e-01]\n",
      " [1.78874735e-01 0.00000000e+00 7.96178344e-03 8.54564756e-02\n",
      "  7.27707006e-01]]\n"
     ]
    },
    {
     "data": {
      "image/png": "[encoded data removed]",
      "text/plain": [
       "<Figure size 360x288 with 2 Axes>"
      ]
     },
     "metadata": {},
     "output_type": "display_data"
    }
   ],
   "source": [
    "cm = confusion_matrix(y_test, eclf2_pred) \n",
    "cm = cm.astype('float') / cm.sum(axis=1)[:, np.newaxis]\n",
    "print(cm)\n",
    "\n",
    "df_cm = pd.DataFrame(cm, range(5), range(5))\n",
    "plt.figure(figsize=(5,4))\n",
    "sn.set(font_scale=0.5) # for label size\n",
    "sn.heatmap(df_cm, annot=True, annot_kws={\"size\": 10}) # font size\n",
    "plt.show()"
   ]
  },
  {
   "cell_type": "code",
   "execution_count": 91,
   "metadata": {},
   "outputs": [
    {
     "name": "stdout",
     "output_type": "stream",
     "text": [
      "                 precision    recall  f1-score   support\n",
      "\n",
      "       Adoption       0.70      0.84      0.76      2159\n",
      "           Died       0.00      0.00      0.00        31\n",
      "     Euthanasia       0.70      0.14      0.23       322\n",
      "Return_to_owner       0.50      0.46      0.48       950\n",
      "       Transfer       0.76      0.73      0.74      1884\n",
      "\n",
      "       accuracy                           0.69      5346\n",
      "      macro avg       0.53      0.43      0.44      5346\n",
      "   weighted avg       0.68      0.69      0.67      5346\n",
      "\n"
     ]
    },
    {
     "name": "stderr",
     "output_type": "stream",
     "text": [
      "c:\\users\\mariliatmf\\documents\\anaconda3\\envs\\py37\\lib\\site-packages\\sklearn\\metrics\\_classification.py:1272: UndefinedMetricWarning: Precision and F-score are ill-defined and being set to 0.0 in labels with no predicted samples. Use `zero_division` parameter to control this behavior.\n",
      "  _warn_prf(average, modifier, msg_start, len(result))\n"
     ]
    }
   ],
   "source": [
    "target_names = ['Adoption','Died','Euthanasia','Return_to_owner','Transfer']\n",
    "print(classification_report(y_test, eclf2_pred, target_names=target_names))"
   ]
  },
  {
   "cell_type": "markdown",
   "metadata": {},
   "source": [
    "#### estimators= ('rf', clf), ('xgb', XGB_model), ('AdaBoostClassifier', bdt), voting='soft'"
   ]
  },
  {
   "cell_type": "code",
   "execution_count": 92,
   "metadata": {},
   "outputs": [
    {
     "name": "stdout",
     "output_type": "stream",
     "text": [
      "Voting Accuracy: 69.62214739992518%\n"
     ]
    }
   ],
   "source": [
    "clf = RandomForestClassifier(n_estimators=115, min_samples_split=10,\n",
    "                                                   min_samples_leaf=2, max_features='sqrt', max_depth=None,\n",
    "                                                   bootstrap=True)\n",
    "\n",
    "bdt = AdaBoostClassifier(tree.DecisionTreeClassifier(),\n",
    "                         algorithm=\"SAMME\",\n",
    "                         n_estimators=500)\n",
    "\n",
    "\n",
    "XGB_model = xgb.XGBClassifier(reg_alpha=1.77827941, n_jobs=-1, colsample_bytree=0.5722532094026564, \n",
    "                              objective='multi:softprob', n_estimators=115, max_depth=22, \n",
    "                              learning_rate=0.07578955028741008, subsample=0.848348985132586)\n",
    "\n",
    "\n",
    "eclf3 = VotingClassifier(estimators=[('rf', clf), ('xgb', XGB_model), \n",
    "                                     ('AdaBoostClassifier', bdt)], voting='soft')\n",
    "eclf3.fit(X_train,y_train)\n",
    "\n",
    "eclf3_pred = eclf3.predict(X_test)\n",
    "print(\"Voting Accuracy: {}%\".format(eclf3.score(X_test, y_test)*100))"
   ]
  },
  {
   "cell_type": "markdown",
   "metadata": {},
   "source": [
    "#### estimators = ('xgb', XGB_model), ('AdaBoostClassifier', bdt), voting='soft'"
   ]
  },
  {
   "cell_type": "code",
   "execution_count": 93,
   "metadata": {},
   "outputs": [
    {
     "name": "stdout",
     "output_type": "stream",
     "text": [
      "Voting Accuracy:  0.6930415263748597\n"
     ]
    }
   ],
   "source": [
    "eclf4 = VotingClassifier(estimators=[('xgb', XGB_model), \n",
    "                                     ('AdaBoostClassifier', bdt)], voting='soft')\n",
    "eclf4.fit(X_train,y_train)\n",
    "\n",
    "eclf4_pred = eclf4.predict(X_test)\n",
    "print(\"Voting Accuracy: \", eclf4.score(X_test, y_test))"
   ]
  },
  {
   "cell_type": "markdown",
   "metadata": {},
   "source": [
    "#### Using Cross validation"
   ]
  },
  {
   "cell_type": "code",
   "execution_count": 94,
   "metadata": {},
   "outputs": [
    {
     "name": "stdout",
     "output_type": "stream",
     "text": [
      "0.6845625206551107\n",
      "0.6406020367388121\n",
      "0.6898002739652324\n",
      "0.6884905841128599\n",
      "0.6917952412361641\n"
     ]
    }
   ],
   "source": [
    "print(np.mean(cross_val_score(eclf1, X_train, y_train, cv=5)))\n",
    "print(np.mean(cross_val_score(eclf2, X_train, y_train, cv=5)))\n",
    "print(np.mean(cross_val_score(eclf3, X_train, y_train, cv=5)))\n",
    "print(np.mean(cross_val_score(eclf4, X_train, y_train, cv=5)))\n",
    "print(np.mean(cross_val_score(XGB_model , X_train, y_train, cv=5)))"
   ]
  },
  {
   "cell_type": "markdown",
   "metadata": {},
   "source": [
    "### Train model with all training set and predict test set to submit on kaggle"
   ]
  },
  {
   "cell_type": "code",
   "execution_count": 95,
   "metadata": {},
   "outputs": [],
   "source": [
    "X = f_train.values\n",
    "y = labels.ravel()"
   ]
  },
  {
   "cell_type": "code",
   "execution_count": 96,
   "metadata": {},
   "outputs": [
    {
     "name": "stdout",
     "output_type": "stream",
     "text": [
      "(11456, 196)\n",
      "(26729, 196)\n"
     ]
    }
   ],
   "source": [
    "X_train, y_train = X, y\n",
    "X_test = f_test.values\n",
    "\n",
    "print(X_test.shape)\n",
    "print(X_train.shape)"
   ]
  },
  {
   "cell_type": "code",
   "execution_count": 97,
   "metadata": {},
   "outputs": [],
   "source": [
    "model = xgb.XGBClassifier(reg_alpha=1.77827941, n_jobs=-1, colsample_bytree=0.5722532094026564, \n",
    "                          objective='multi:softprob', n_estimators=115, max_depth=22, \n",
    "                          learning_rate=0.07578955028741008, subsample=0.848348985132586, \n",
    "                          tree_method='gpu_hist', predictor='gpu_predictor', gpu_id=0)"
   ]
  },
  {
   "cell_type": "code",
   "execution_count": 98,
   "metadata": {},
   "outputs": [
    {
     "data": {
      "text/plain": [
       "XGBClassifier(base_score=0.5, booster=None, colsample_bylevel=1,\n",
       "              colsample_bynode=1, colsample_bytree=0.5722532094026564, gamma=0,\n",
       "              gpu_id=0, importance_type='gain', interaction_constraints=None,\n",
       "              learning_rate=0.07578955028741008, max_delta_step=0, max_depth=22,\n",
       "              min_child_weight=1, missing=nan, monotone_constraints=None,\n",
       "              n_estimators=115, n_jobs=-1, num_parallel_tree=1,\n",
       "              objective='multi:softprob', predictor='gpu_predictor',\n",
       "              random_state=0, reg_alpha=1.77827941, reg_lambda=1,\n",
       "              scale_pos_weight=None, subsample=0.848348985132586,\n",
       "              tree_method='gpu_hist', validate_parameters=False,\n",
       "              verbosity=None)"
      ]
     },
     "execution_count": 98,
     "metadata": {},
     "output_type": "execute_result"
    }
   ],
   "source": [
    "model.fit(X_train, y_train)"
   ]
  },
  {
   "cell_type": "code",
   "execution_count": 99,
   "metadata": {},
   "outputs": [],
   "source": [
    "proba = model.predict_proba(X_test)"
   ]
  },
  {
   "cell_type": "code",
   "execution_count": 100,
   "metadata": {},
   "outputs": [
    {
     "data": {
      "text/plain": [
       "(11456, 5)"
      ]
     },
     "execution_count": 100,
     "metadata": {},
     "output_type": "execute_result"
    }
   ],
   "source": [
    "proba.shape"
   ]
  },
  {
   "cell_type": "code",
   "execution_count": 101,
   "metadata": {},
   "outputs": [],
   "source": [
    "submission = pd.DataFrame({'ID': animal_test_id.ravel(), 'Adoption': proba[:, 0], 'Died': proba[:, 1],\n",
    "                           'Euthanasia': proba[:, 2], 'Return_to_owner': proba[:, 3],\n",
    "                           'Transfer': proba[:, 4],})"
   ]
  },
  {
   "cell_type": "code",
   "execution_count": 102,
   "metadata": {},
   "outputs": [
    {
     "data": {
      "text/html": [
       "<div>\n",
       "<style scoped>\n",
       "    .dataframe tbody tr th:only-of-type {\n",
       "        vertical-align: middle;\n",
       "    }\n",
       "\n",
       "    .dataframe tbody tr th {\n",
       "        vertical-align: top;\n",
       "    }\n",
       "\n",
       "    .dataframe thead th {\n",
       "        text-align: right;\n",
       "    }\n",
       "</style>\n",
       "<table border=\"1\" class=\"dataframe\">\n",
       "  <thead>\n",
       "    <tr style=\"text-align: right;\">\n",
       "      <th></th>\n",
       "      <th>ID</th>\n",
       "      <th>Adoption</th>\n",
       "      <th>Died</th>\n",
       "      <th>Euthanasia</th>\n",
       "      <th>Return_to_owner</th>\n",
       "      <th>Transfer</th>\n",
       "    </tr>\n",
       "  </thead>\n",
       "  <tbody>\n",
       "    <tr>\n",
       "      <th>0</th>\n",
       "      <td>1</td>\n",
       "      <td>0.030897</td>\n",
       "      <td>0.002532</td>\n",
       "      <td>0.024582</td>\n",
       "      <td>0.076386</td>\n",
       "      <td>0.865603</td>\n",
       "    </tr>\n",
       "    <tr>\n",
       "      <th>1</th>\n",
       "      <td>2</td>\n",
       "      <td>0.829955</td>\n",
       "      <td>0.004971</td>\n",
       "      <td>0.009309</td>\n",
       "      <td>0.104492</td>\n",
       "      <td>0.051273</td>\n",
       "    </tr>\n",
       "    <tr>\n",
       "      <th>2</th>\n",
       "      <td>3</td>\n",
       "      <td>0.267433</td>\n",
       "      <td>0.005038</td>\n",
       "      <td>0.038771</td>\n",
       "      <td>0.354689</td>\n",
       "      <td>0.334069</td>\n",
       "    </tr>\n",
       "    <tr>\n",
       "      <th>3</th>\n",
       "      <td>4</td>\n",
       "      <td>0.302428</td>\n",
       "      <td>0.009295</td>\n",
       "      <td>0.016974</td>\n",
       "      <td>0.191582</td>\n",
       "      <td>0.479722</td>\n",
       "    </tr>\n",
       "    <tr>\n",
       "      <th>4</th>\n",
       "      <td>5</td>\n",
       "      <td>0.278978</td>\n",
       "      <td>0.002762</td>\n",
       "      <td>0.017809</td>\n",
       "      <td>0.647872</td>\n",
       "      <td>0.052578</td>\n",
       "    </tr>\n",
       "  </tbody>\n",
       "</table>\n",
       "</div>"
      ],
      "text/plain": [
       "   ID  Adoption      Died  Euthanasia  Return_to_owner  Transfer\n",
       "0   1  0.030897  0.002532    0.024582         0.076386  0.865603\n",
       "1   2  0.829955  0.004971    0.009309         0.104492  0.051273\n",
       "2   3  0.267433  0.005038    0.038771         0.354689  0.334069\n",
       "3   4  0.302428  0.009295    0.016974         0.191582  0.479722\n",
       "4   5  0.278978  0.002762    0.017809         0.647872  0.052578"
      ]
     },
     "execution_count": 102,
     "metadata": {},
     "output_type": "execute_result"
    }
   ],
   "source": [
    "submission.head()"
   ]
  },
  {
   "cell_type": "code",
   "execution_count": 103,
   "metadata": {},
   "outputs": [],
   "source": [
    "submission.to_csv('data\\our_submit.csv',index=False)"
   ]
  },
  {
   "cell_type": "markdown",
   "metadata": {},
   "source": [
    "Multiclass loss = 0.72753 -> top 15% at kaggle"
   ]
  }
 ],
 "metadata": {
  "kernelspec": {
   "display_name": "Python 3",
   "language": "python",
   "name": "python3"
  },
  "language_info": {
   "codemirror_mode": {
    "name": "ipython",
    "version": 3
   },
   "file_extension": ".py",
   "mimetype": "text/x-python",
   "name": "python",
   "nbconvert_exporter": "python",
   "pygments_lexer": "ipython3",
   "version": "3.7.5"
  }
 },
 "nbformat": 4,
 "nbformat_minor": 4
}
